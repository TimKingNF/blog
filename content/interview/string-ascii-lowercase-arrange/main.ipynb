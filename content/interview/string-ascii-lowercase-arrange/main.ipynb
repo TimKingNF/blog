{
 "cells": [
  {
   "cell_type": "markdown",
   "metadata": {},
   "source": [
    "# 小写字符排列组合\n",
    "\n",
    "* Slug: string-ascii-lowercase-arrange\n",
    "\n",
    "* Date: 2018-07-10\n",
    "\n",
    "* Category: 面试\n",
    "\n",
    "* Tags: 算法\n",
    "\n",
    "* Author: timking\n",
    "\n",
    "* Summary: 面试中遇到的题目"
   ]
  },
  {
   "cell_type": "markdown",
   "metadata": {},
   "source": [
    "**题目如下：**\n",
    "\n",
    "有26个小写字母, 找出所有字符的组合, a、b、c、ab、bc、abc、a~z 都是一个组合（顺序无关）"
   ]
  },
  {
   "cell_type": "markdown",
   "metadata": {},
   "source": [
    "## 解答\n",
    "\n",
    "这里要找出所有字符的排列组合，设一个数组为所有排列组合。\n",
    "\n",
    "```python\n",
    "ret = []\n",
    "\n",
    "# 第一个字符\n",
    "ret = ['a']\n",
    "\n",
    "# 加入第二个字符之后的数组\n",
    "ret = ['a', 'ab', 'b']\n",
    "\n",
    "# 加入第三个字符之后的数组\n",
    "ret = ['a', 'ab', 'b', 'ac', 'abc', 'bc', 'c']\n",
    "\n",
    "# ....\n",
    "```\n",
    "\n",
    "可以看到, 数组的每下一步都是新增加字符连接原数组里的每一个元素并加上原数组，最后插入新增字符。\n",
    "\n",
    "以此类推，最终得到最终结果。代码如下:"
   ]
  },
  {
   "cell_type": "code",
   "execution_count": 1,
   "metadata": {},
   "outputs": [],
   "source": [
    "def string_ascii_lowercase_arrange():\n",
    "    ret = []\n",
    "    for i in range(97, 123):\n",
    "        ret = [\"{}{}\".format(v, chr(i)) for v in ret] + ret + [chr(i)]\n",
    "    return ret"
   ]
  }
 ],
 "metadata": {
  "kernelspec": {
   "display_name": "Python 3",
   "language": "python",
   "name": "python3"
  },
  "language_info": {
   "codemirror_mode": {
    "name": "ipython",
    "version": 3
   },
   "file_extension": ".py",
   "mimetype": "text/x-python",
   "name": "python",
   "nbconvert_exporter": "python",
   "pygments_lexer": "ipython3",
   "version": "3.6.2"
  },
  "toc": {
   "base_numbering": 1,
   "nav_menu": {},
   "number_sections": true,
   "sideBar": true,
   "skip_h1_title": false,
   "title_cell": "Table of Contents",
   "title_sidebar": "Contents",
   "toc_cell": false,
   "toc_position": {},
   "toc_section_display": true,
   "toc_window_display": false
  }
 },
 "nbformat": 4,
 "nbformat_minor": 2
}
