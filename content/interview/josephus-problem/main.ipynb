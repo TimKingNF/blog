{
 "cells": [
  {
   "cell_type": "markdown",
   "metadata": {},
   "source": [
    "# 约瑟夫斯问题\n",
    "\n",
    "* Slug: josephus-problem\n",
    "\n",
    "* Date: 2018-07-11\n",
    "\n",
    "* Category: 面试\n",
    "\n",
    "* Tags: 算法\n",
    "\n",
    "* Author: timking\n",
    "\n",
    "* Summary: 面试中遇到的题目"
   ]
  },
  {
   "cell_type": "markdown",
   "metadata": {},
   "source": [
    "**题目如下：**\n",
    "\n",
    "n个人(编号1~n)围成一圈从编号为1的开始报数，从1报数到m，报到m的人出来，下一个人继续重新从1开始报数，编程求最后一个留下的人的编号\n",
    "\n",
    "如n=3，m=4\n",
    "\n",
    "第一次出队：1\n",
    "\n",
    "第二次出队：3\n",
    "\n",
    "最后留下：2"
   ]
  },
  {
   "cell_type": "markdown",
   "metadata": {},
   "source": [
    "## 解答\n",
    "\n",
    "该题的解答思路在于，完成第一步 $m\\%n$ 之后，下一个需要重新开始报号。\n",
    "\n",
    "这里有几种方法:"
   ]
  },
  {
   "cell_type": "markdown",
   "metadata": {},
   "source": [
    "### 解答一\n",
    "\n",
    "第一种利用数组完成，在第一步的人出队之后（设其下标为 `index`），将其后面的人 `[index+1:]` 切片移到前面的人 `[:index]` 之前，重新构造为第二步的数组。\n",
    "\n",
    "代码如下:"
   ]
  },
  {
   "cell_type": "code",
   "execution_count": 1,
   "metadata": {},
   "outputs": [],
   "source": [
    "def x(n, m):\n",
    "    a = [i for i in range(1, n+1)]\n",
    "\n",
    "    while len(a) > 1:\n",
    "        index = (m  - 1) % len(a)\n",
    "        a = a[index+1:] + a[:index]\n",
    "    return a[0]"
   ]
  },
  {
   "cell_type": "markdown",
   "metadata": {},
   "source": [
    "### 解答二\n",
    "\n",
    "\n",
    "第二种同样利用数组，可以通过移动下标实现。  \n",
    "\n",
    "设第一次 `index` 为 0，表示从第一个开始算起，第一步出队的人的位置为 $(m-1)\\%n$, 记为 `A1`,  `A1` 出队之后 `A1` 后面的人都往前移一位。 \n",
    "\n",
    "\n",
    "第二步出队的人位置为  $(A1+m-1)\\%(n-1)$ , 表示从上一步出队的人的位置开始算起。  \n",
    "由此可以得出，每一步出队的都是上一步的index计算得出, 得  $(index+m-1)\\%len(list)$\n",
    "\n",
    "代码如下:"
   ]
  },
  {
   "cell_type": "code",
   "execution_count": 2,
   "metadata": {},
   "outputs": [],
   "source": [
    "def x(n, m):\n",
    "    l_number = list(range(1, n + 1))\n",
    "    index = 0\n",
    "    while len(l_number) > 1:\n",
    "        index = (index -1 + m) % len(l_number)\n",
    "        l_number.pop(index)\n",
    "    return l_number[0]"
   ]
  },
  {
   "cell_type": "markdown",
   "metadata": {},
   "source": [
    "### 解答三\n",
    "\n",
    "第三种，则在第二种的基础上，更进一步，通过数学代换直接得到每一步应该出队的人。\n",
    "\n",
    "假设从0排列开始，第一次排列为:\n",
    "\n",
    "`0, 1, 2, 3, 4 ... n-3, n-2, n-1` (共n项) \n",
    "\n",
    "此时出队的人的编号为 $(m-1)\\%n$ 。\n",
    "\n",
    "设第二次应该从 k 开始算起，则有式子 $k=m\\%n$, 同时第二次的排列为:\n",
    "\n",
    "`k, k+1, k+2, K+3, ... k-3, k-2` (共n-1项) \n",
    "\n",
    "此时设 k = 0, 则该排列可以简单代换为 `n-1` 项的求出队问题:\n",
    "\n",
    "`0, 1, 2, 3, ..., n-3, n-2` (共n-1项)\n",
    "\n",
    "同样的，往下代换。 即，对于`n`个人报数的问题，可以分解为先求解`（n–1）`个人报数的子问题；而对于`（n–1）`个人报数的子问题，又可分解为先求`(（N–1）–1)`人个报数的子问题。\n",
    "\n",
    "设当人数只有1个人的时候，不管怎么数编号都为 0:\n",
    "\n",
    "则有 $f(1) = 0$。\n",
    "\n",
    "当人数有2个人的时候，则有上一步的人的编号加 m，即:\n",
    "\n",
    "$f(2) = (f(1) + m)\\%n$\n",
    "\n",
    "以此类推，则有公式:\n",
    "\n",
    "$f(1) = 0 \\\\\n",
    "f(x) = (f(x-1) + m)\\%n \\qquad (x>1)$\n",
    "\n",
    "最后我们实际编号是从1开始，则将结果加一。\n",
    "\n",
    "代码如下:"
   ]
  },
  {
   "cell_type": "code",
   "execution_count": 3,
   "metadata": {},
   "outputs": [],
   "source": [
    "def x(n, m):\n",
    "    i = 2\n",
    "    s = 0\n",
    "    while i <= n:\n",
    "        s = (s + m) % i\n",
    "        i+=1\n",
    "    return s+1"
   ]
  }
 ],
 "metadata": {
  "kernelspec": {
   "display_name": "Python 3",
   "language": "python",
   "name": "python3"
  },
  "language_info": {
   "codemirror_mode": {
    "name": "ipython",
    "version": 3
   },
   "file_extension": ".py",
   "mimetype": "text/x-python",
   "name": "python",
   "nbconvert_exporter": "python",
   "pygments_lexer": "ipython3",
   "version": "3.6.2"
  },
  "toc": {
   "base_numbering": 1,
   "nav_menu": {},
   "number_sections": true,
   "sideBar": true,
   "skip_h1_title": false,
   "title_cell": "Table of Contents",
   "title_sidebar": "Contents",
   "toc_cell": false,
   "toc_position": {},
   "toc_section_display": true,
   "toc_window_display": false
  }
 },
 "nbformat": 4,
 "nbformat_minor": 2
}
