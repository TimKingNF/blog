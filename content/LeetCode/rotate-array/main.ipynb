{
 "cells": [
  {
   "cell_type": "markdown",
   "metadata": {},
   "source": [
    "# 旋转数组\n",
    "\n",
    "* Slug: rotate-array\n",
    "\n",
    "* Date: 2018-06-24\n",
    "\n",
    "* Category: LeetCode\n",
    "\n",
    "* Tags: 数组, 算法\n",
    "\n",
    "* Author: timking\n",
    "\n",
    "* Summary: LeetCode - 探索 - 初级算法"
   ]
  },
  {
   "cell_type": "markdown",
   "metadata": {},
   "source": [
    "> [原文链接](https://leetcode-cn.com/problems/rotate-array/description/)"
   ]
  },
  {
   "cell_type": "markdown",
   "metadata": {},
   "source": [
    "给定一个数组，将数组中的元素向右移动 k 个位置，其中 k 是非负数。\n",
    "\n",
    "**示例 1:**\n",
    "\n",
    "```\n",
    "输入: [1,2,3,4,5,6,7] 和 k = 3\n",
    "输出: [5,6,7,1,2,3,4]\n",
    "解释:\n",
    "    向右旋转 1 步: [7,1,2,3,4,5,6]\n",
    "    向右旋转 2 步: [6,7,1,2,3,4,5]\n",
    "    向右旋转 3 步: [5,6,7,1,2,3,4]\n",
    "```\n",
    "\n",
    "**示例 2:**\n",
    "\n",
    "```\n",
    "输入: [-1,-100,3,99] 和 k = 2\n",
    "输出: [3,99,-1,-100]\n",
    "解释: \n",
    "    向右旋转 1 步: [99,-1,-100,3]\n",
    "    向右旋转 2 步: [3,99,-1,-100]\n",
    "```\n",
    "\n",
    "**说明:**\n",
    "\n",
    "* 尽可能想出更多的解决方案，至少有三种不同的方法可以解决这个问题。\n",
    "\n",
    "\n",
    "* 要求使用空间复杂度为 O(1) 的原地算法。"
   ]
  },
  {
   "cell_type": "markdown",
   "metadata": {},
   "source": [
    "## 初步解答\n",
    "\n",
    "这道题相对简单，利用数组切片的特性就可以了，只有一点需要值得注意的就是当给定`k`值大于数组长度，所以需要对`k`取余。\n",
    "\n",
    "代码如下:"
   ]
  },
  {
   "cell_type": "code",
   "execution_count": 1,
   "metadata": {},
   "outputs": [],
   "source": [
    "class Solution:\n",
    "    def rotate(self, nums, k):\n",
    "        \"\"\"\n",
    "        :type nums: List[int]\n",
    "        :type k: int\n",
    "        :rtype: void Do not return anything, modify nums in-place instead.\n",
    "        \"\"\"\n",
    "        length = len(nums)\n",
    "        k_v = k % length\n",
    "        nums[:] = nums[length-k_v:] + nums[:length-k_v]"
   ]
  },
  {
   "cell_type": "markdown",
   "metadata": {},
   "source": [
    "在提交的时候一开始没有看清给定的返回值条件，直接 `return nums` 返回了。算是一个小插曲。\n",
    "\n",
    "注意的是，直接用 `nums = nums[length-k_v:] + nums[:length-k_v]` 是无法修改外部的 `nums` 的数组的值的。\n",
    "\n",
    "因为其是作用于本地作用域的一个变量赋值，所以这边需要使用切片将其赋值。这样才能达到修改外部数组值的效果\n",
    "\n",
    "提交上去之后看了一下其他代码的写法。大同小异，想了想好像也没有什么可以优化的方法。就到此为止吧 :)"
   ]
  }
 ],
 "metadata": {
  "kernelspec": {
   "display_name": "Python 3",
   "language": "python",
   "name": "python3"
  },
  "language_info": {
   "codemirror_mode": {
    "name": "ipython",
    "version": 3
   },
   "file_extension": ".py",
   "mimetype": "text/x-python",
   "name": "python",
   "nbconvert_exporter": "python",
   "pygments_lexer": "ipython3",
   "version": "3.6.2"
  },
  "toc": {
   "base_numbering": 1,
   "nav_menu": {},
   "number_sections": true,
   "sideBar": true,
   "skip_h1_title": false,
   "title_cell": "Table of Contents",
   "title_sidebar": "Contents",
   "toc_cell": false,
   "toc_position": {},
   "toc_section_display": true,
   "toc_window_display": false
  }
 },
 "nbformat": 4,
 "nbformat_minor": 2
}
