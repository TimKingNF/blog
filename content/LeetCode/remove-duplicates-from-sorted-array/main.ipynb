{
 "cells": [
  {
   "cell_type": "markdown",
   "metadata": {},
   "source": [
    "# 删除排序数组中的重复项\n",
    "\n",
    "* Slug: remove-duplicates-from-sorted-array\n",
    "\n",
    "* Date: 2018-06-20\n",
    "\n",
    "* Category: LeetCode\n",
    "\n",
    "* Tags: 数组, 算法\n",
    "\n",
    "* Author: timking\n",
    "\n",
    "* Summary: LeetCode - 探索 - 初级算法"
   ]
  },
  {
   "cell_type": "markdown",
   "metadata": {},
   "source": [
    "> [原文链接](https://leetcode-cn.com/explore/interview/card/top-interview-questions-easy/1/array/21/)\n",
    "\n",
    "给定一个排序数组，你需要在原地删除重复出现的元素，使得每个元素只出现一次，返回移除后数组的新长度。\n",
    "\n",
    "不要使用额外的数组空间，你必须在原地修改输入数组并在使用 O(1) 额外空间的条件下完成。\n",
    "\n",
    "示例1:\n",
    "\n",
    "```\n",
    "给定数组 nums = [1,1,2], \n",
    "\n",
    "函数应该返回新的长度 2, 并且原数组 nums 的前两个元素被修改为 1, 2。 \n",
    "\n",
    "你不需要考虑数组中超出新长度后面的元素。\n",
    "```\n",
    "\n",
    "示例 2:\n",
    "\n",
    "```\n",
    "给定 nums = [0,0,1,1,1,2,2,3,3,4],\n",
    "\n",
    "函数应该返回新的长度 5, 并且原数组 nums 的前五个元素被修改为 0, 1, 2, 3, 4。\n",
    "\n",
    "你不需要考虑数组中超出新长度后面的元素。\n",
    "```\n",
    "\n",
    "说明:\n",
    "\n",
    "为什么返回数值是整数，但输出的答案是数组呢?\n",
    "\n",
    "请注意，输入数组是以“引用”方式传递的，这意味着在函数里修改输入数组对于调用者是可见的。\n",
    "\n",
    "你可以想象内部操作如下:\n",
    "\n",
    "```\n",
    "// nums 是以“引用”方式传递的。也就是说，不对实参做任何拷贝\n",
    "int len = removeDuplicates(nums);\n",
    "\n",
    "// 在函数里修改输入数组对于调用者是可见的。\n",
    "// 根据你的函数返回的长度, 它会打印出数组中该长度范围内的所有元素。\n",
    "for (int i = 0; i < len; i++) {\n",
    "    print(nums[i]);\n",
    "}\n",
    "```"
   ]
  },
  {
   "cell_type": "markdown",
   "metadata": {},
   "source": [
    "## 初步解答\n",
    "\n",
    "从题目来看。首先题目给定条件为排序数组。其次，只需要返回最后排序后的长度。  \n",
    "\n",
    "题目中的已经给了相应的提示，就是说在不使用额外空间的情况下使用一次遍历。\n",
    "\n",
    "那么给我的思路首先就是想到，在一次遍历的时候得到重复值与新排序值的一个交换位置。这样就能达到在遍历完成之后得到前N位为去除重复的排序\n",
    "数组。\n",
    "\n",
    "根据这个题目，首先写出第一轮的代码:"
   ]
  },
  {
   "cell_type": "code",
   "execution_count": 1,
   "metadata": {},
   "outputs": [],
   "source": [
    "class Solution:\n",
    "    def removeDuplicates(self, nums):\n",
    "        \"\"\"\n",
    "        :type nums: List[int]\n",
    "        :rtype: int\n",
    "        \"\"\"\n",
    "        length = len(nums)\n",
    "        if length == 0:\n",
    "            return 0\n",
    "        i = 1\n",
    "        max_id = 0\n",
    "        max_val = nums[max_id]\n",
    "        while i < length:\n",
    "            if max_val == nums[i]:\n",
    "                i += 1\n",
    "                continue\n",
    "            elif nums[i] > max_val:\n",
    "                max_val = nums[i]\n",
    "                max_id += 1\n",
    "                nums[max_id], nums[i] = nums[i], nums[max_id]\n",
    "            i += 1\n",
    "        return max_id + 1"
   ]
  },
  {
   "cell_type": "markdown",
   "metadata": {},
   "source": [
    "这里的思路是，首先考虑边界条件（一个完整的算法应当考虑到边界条件）。在数组长度为0的情况下应当返回0，在长度为1的情况下应当返回1。\n",
    "\n",
    "然后第一步，首先假设取到第一个值为最大值 `max_val`，其下标为 `max_id`。 \n",
    "\n",
    "如果下一个值和`max_val`相等，则我们认为`max_id + 1`为我们需要替换判断的目标, 继续遍历；\n",
    "\n",
    "直到下一个值大于`max_val`。则我们将`max_id + 1` 位置的元素与该值交换，此时`max_id = max_id + 1`。\n",
    "\n",
    "最后遍历完成，`max_id` 为排序后的长度，则我们需要返回 `max_id + 1` 取到正确的排序后的数组。"
   ]
  },
  {
   "cell_type": "markdown",
   "metadata": {},
   "source": [
    "自定义几个测试用例:"
   ]
  },
  {
   "cell_type": "code",
   "execution_count": 2,
   "metadata": {},
   "outputs": [],
   "source": [
    "a = [0, 0, 1, 1, 2, 2, 3, 4, 5]\n",
    "b = []\n",
    "c = [1]\n",
    "d = [1, 1, 1]"
   ]
  },
  {
   "cell_type": "code",
   "execution_count": 3,
   "metadata": {},
   "outputs": [
    {
     "data": {
      "text/plain": [
       "[0, 1, 2, 3, 4, 5]"
      ]
     },
     "execution_count": 3,
     "metadata": {},
     "output_type": "execute_result"
    }
   ],
   "source": [
    "a[:Solution().removeDuplicates(a)]"
   ]
  },
  {
   "cell_type": "code",
   "execution_count": 4,
   "metadata": {},
   "outputs": [
    {
     "data": {
      "text/plain": [
       "[]"
      ]
     },
     "execution_count": 4,
     "metadata": {},
     "output_type": "execute_result"
    }
   ],
   "source": [
    "b[:Solution().removeDuplicates(b)]"
   ]
  },
  {
   "cell_type": "code",
   "execution_count": 5,
   "metadata": {},
   "outputs": [
    {
     "data": {
      "text/plain": [
       "[1]"
      ]
     },
     "execution_count": 5,
     "metadata": {},
     "output_type": "execute_result"
    }
   ],
   "source": [
    "c[:Solution().removeDuplicates(c)]"
   ]
  },
  {
   "cell_type": "code",
   "execution_count": 6,
   "metadata": {
    "scrolled": false
   },
   "outputs": [
    {
     "data": {
      "text/plain": [
       "[1]"
      ]
     },
     "execution_count": 6,
     "metadata": {},
     "output_type": "execute_result"
    }
   ],
   "source": [
    "d[:Solution().removeDuplicates(d)]"
   ]
  },
  {
   "cell_type": "markdown",
   "metadata": {},
   "source": [
    "看起来没什么问题的样子，把代码提交到 LeetCode 上也验证通过了。查看了一下效率，大概在100ms 左右, 在python提交答案里大概是中等水平。\n",
    "\n",
    "我们自己测一下效率:"
   ]
  },
  {
   "cell_type": "code",
   "execution_count": 7,
   "metadata": {},
   "outputs": [
    {
     "name": "stdout",
     "output_type": "stream",
     "text": [
      "2.58 µs ± 13.3 ns per loop (mean ± std. dev. of 7 runs, 100000 loops each)\n"
     ]
    }
   ],
   "source": [
    "%%timeit \n",
    "a[:Solution().removeDuplicates(a)]"
   ]
  },
  {
   "cell_type": "markdown",
   "metadata": {},
   "source": [
    "再来一个针对大数组的调优, 先构建一个百万级的大数组。"
   ]
  },
  {
   "cell_type": "code",
   "execution_count": 8,
   "metadata": {},
   "outputs": [],
   "source": [
    "import random\n",
    "\n",
    "big_list = []\n",
    "for i in range(0, 1000000):\n",
    "    j = random.randint(0, 10)\n",
    "    big_list += [i] * j"
   ]
  },
  {
   "cell_type": "code",
   "execution_count": 9,
   "metadata": {
    "scrolled": true
   },
   "outputs": [
    {
     "data": {
      "text/plain": [
       "5003009"
      ]
     },
     "execution_count": 9,
     "metadata": {},
     "output_type": "execute_result"
    }
   ],
   "source": [
    "len(big_list)"
   ]
  },
  {
   "cell_type": "markdown",
   "metadata": {},
   "source": [
    "为了避免排序后的数组导致对算法排序的影响，这里需要copy一份完全一样的数组。"
   ]
  },
  {
   "cell_type": "code",
   "execution_count": 10,
   "metadata": {},
   "outputs": [],
   "source": [
    "import copy\n",
    "\n",
    "big_list_one = copy.copy(big_list)"
   ]
  },
  {
   "cell_type": "code",
   "execution_count": 11,
   "metadata": {},
   "outputs": [
    {
     "name": "stdout",
     "output_type": "stream",
     "text": [
      "995 ms ± 8.74 ms per loop (mean ± std. dev. of 7 runs, 1 loop each)\n"
     ]
    }
   ],
   "source": [
    "%%timeit\n",
    "big_list_one[:Solution().removeDuplicates(big_list_one)]"
   ]
  },
  {
   "cell_type": "markdown",
   "metadata": {},
   "source": [
    "可以看到对一个百万级的数组排序大概需要1秒左右。作为一个基准，接下来对算法进行调优。"
   ]
  },
  {
   "cell_type": "markdown",
   "metadata": {},
   "source": [
    "## 算法调优\n",
    "\n",
    "在调优思路上，首先遍历循环上一次循环，没毛病。那么可以调优的地方，可以从赋值、变量、判断这几个思路出发。\n",
    "\n",
    "首先第一个思路就是，交换赋值的必要性。因为这里我们无需保留原始数据的所有数组，所以我们可以直接把 `max_id + 1` 的位置替换为`num[i]`, 从而少了一个赋值操作。\n",
    "\n",
    "对上文算法第20行进行修改。修改为 `nums[max_id] = nums[i]`。\n",
    "\n",
    "修改过后的代码如下:"
   ]
  },
  {
   "cell_type": "code",
   "execution_count": 12,
   "metadata": {},
   "outputs": [],
   "source": [
    "class Solution:\n",
    "    def removeDuplicates(self, nums):\n",
    "        \"\"\"\n",
    "        :type nums: List[int]\n",
    "        :rtype: int\n",
    "        \"\"\"\n",
    "        length = len(nums)\n",
    "        if length == 0:\n",
    "            return 0\n",
    "        i = 1\n",
    "        max_id = 0\n",
    "        max_val = nums[max_id]\n",
    "        while i < length:\n",
    "            if max_val == nums[i]:\n",
    "                i += 1\n",
    "                continue\n",
    "            elif nums[i] > max_val:\n",
    "                max_val = nums[i]\n",
    "                max_id += 1\n",
    "                nums[max_id] = nums[i]\n",
    "            i += 1\n",
    "        return max_id + 1\n",
    "\n",
    "big_list_two = copy.copy(big_list)"
   ]
  },
  {
   "cell_type": "markdown",
   "metadata": {},
   "source": [
    "测试一下同样对大数组的执行效率:"
   ]
  },
  {
   "cell_type": "code",
   "execution_count": 13,
   "metadata": {},
   "outputs": [
    {
     "name": "stdout",
     "output_type": "stream",
     "text": [
      "949 ms ± 1.4 ms per loop (mean ± std. dev. of 7 runs, 1 loop each)\n"
     ]
    }
   ],
   "source": [
    "%%timeit\n",
    "big_list_two[:Solution().removeDuplicates(big_list_two)]"
   ]
  },
  {
   "cell_type": "markdown",
   "metadata": {},
   "source": [
    "可以看到这次改动带来了差不多5%的效率提高。继续再来调优一下算法。"
   ]
  },
  {
   "cell_type": "markdown",
   "metadata": {},
   "source": [
    "## 避免过度的优化\n",
    "\n",
    "其次，因为条件已知是排序数组, 所以第17行的判断也是没有必要的。修改为 `else:` 。\n",
    "\n",
    "最后，可以看到 `max_val` 的作用只是为了比较最大值，为了节省一个赋值操作。可以将 `max_val` 修改为 `num[max_id]`。\n",
    "\n",
    "直觉上这会给我们带来性能提升，但是很可惜，并不是这样子的。:( "
   ]
  },
  {
   "cell_type": "code",
   "execution_count": 14,
   "metadata": {},
   "outputs": [],
   "source": [
    "class Solution:\n",
    "    def removeDuplicates(self, nums):\n",
    "        \"\"\"\n",
    "        :type nums: List[int]\n",
    "        :rtype: int\n",
    "        \"\"\"\n",
    "        length = len(nums)\n",
    "        if length == 0:\n",
    "            return 0\n",
    "        i = 1\n",
    "        max_id = 0\n",
    "        max_val = nums[max_id]\n",
    "        while i < length:\n",
    "            if max_val == nums[i]:\n",
    "                i += 1\n",
    "                continue\n",
    "            else: # 修改为 else\n",
    "                max_val = nums[i]\n",
    "                max_id += 1\n",
    "                nums[max_id] = nums[i]\n",
    "            i += 1\n",
    "        return max_id + 1\n",
    "    \n",
    "big_list_three = copy.copy(big_list)"
   ]
  },
  {
   "cell_type": "code",
   "execution_count": 15,
   "metadata": {},
   "outputs": [
    {
     "name": "stdout",
     "output_type": "stream",
     "text": [
      "1.05 s ± 136 ms per loop (mean ± std. dev. of 7 runs, 1 loop each)\n"
     ]
    }
   ],
   "source": [
    "%%timeit\n",
    "big_list_three[:Solution().removeDuplicates(big_list_three)]"
   ]
  },
  {
   "cell_type": "code",
   "execution_count": 16,
   "metadata": {},
   "outputs": [],
   "source": [
    "class Solution:\n",
    "    def removeDuplicates(self, nums):\n",
    "        \"\"\"\n",
    "        :type nums: List[int]\n",
    "        :rtype: int\n",
    "        \"\"\"\n",
    "        length = len(nums)\n",
    "        if length == 0:\n",
    "            return 0\n",
    "        i = 1\n",
    "        max_id = 0\n",
    "        while i < length:\n",
    "            if nums[max_id] == nums[i]: # 修改为直接取值\n",
    "                i += 1\n",
    "                continue\n",
    "            elif nums[i] > nums[max_id]: # 修改为直接取值\n",
    "                max_id += 1\n",
    "                nums[max_id] = nums[i]\n",
    "            i += 1\n",
    "        return max_id + 1\n",
    "\n",
    "big_list_four = copy.copy(big_list)"
   ]
  },
  {
   "cell_type": "code",
   "execution_count": 17,
   "metadata": {},
   "outputs": [
    {
     "name": "stdout",
     "output_type": "stream",
     "text": [
      "1.11 s ± 3.12 ms per loop (mean ± std. dev. of 7 runs, 1 loop each)\n"
     ]
    }
   ],
   "source": [
    "%%timeit\n",
    "big_list_four[:Solution().removeDuplicates(big_list_four)]"
   ]
  },
  {
   "cell_type": "markdown",
   "metadata": {},
   "source": [
    "可以看到。两种改动分别给我们带来 10% 和 16% 的性能下降。\n",
    "\n",
    "再来看看我们的两个改动，这里第一个不能理解为什么会变慢，难道`else`更消耗时间？\n",
    "\n",
    "第二个在优化了一个赋值的同时，却让我们增加了更多的内存寻址时间（从nums取到max_id值）。\n",
    "\n",
    "但是，这两个地方都没有达到我们想要的效果，并且还造成了效率降低。\n",
    "\n",
    "这充分说明了一个问题，就是说在思考算法优化的时候，必须保证我们的优化是针对实际问题而优化的，不要自己瞎下定论。"
   ]
  },
  {
   "cell_type": "markdown",
   "metadata": {},
   "source": [
    "## 利用 line_profiler 进行分析优化\n",
    "\n",
    "现在我们利用工具来分析一下以下这段代码的运行。"
   ]
  },
  {
   "cell_type": "code",
   "execution_count": 18,
   "metadata": {},
   "outputs": [
    {
     "name": "stdout",
     "output_type": "stream",
     "text": [
      "import random\r\n",
      "\r\n",
      "big_list = []\r\n",
      "for i in range(0, 1000000):\r\n",
      "    j = random.randint(0, 10)\r\n",
      "    big_list += [i] * j\r\n",
      "\r\n",
      "print(\"len big_list \", len(big_list))\r\n",
      "\r\n",
      "\r\n",
      "class Solution:\r\n",
      "    @profile\r\n",
      "    def removeDuplicates(self, nums):\r\n",
      "        \"\"\"\r\n",
      "        :type nums: List[int]\r\n",
      "        :rtype: int\r\n",
      "        \"\"\"\r\n",
      "        length = len(nums)\r\n",
      "        if length == 0:\r\n",
      "            return 0\r\n",
      "        i = 1\r\n",
      "        max_id = 0\r\n",
      "        max_val = nums[max_id]\r\n",
      "        while i < length:\r\n",
      "            if max_val == nums[i]:\r\n",
      "                i += 1\r\n",
      "                continue\r\n",
      "            elif nums[i] > max_val:\r\n",
      "                max_val = nums[i]\r\n",
      "                max_id += 1\r\n",
      "                nums[max_id] = nums[i]\r\n",
      "            i += 1\r\n",
      "        return max_id + 1\r\n",
      "\r\n",
      "\r\n",
      "print(len(big_list[:Solution().removeDuplicates(big_list)]))\r\n"
     ]
    }
   ],
   "source": [
    "!cat solution.py"
   ]
  },
  {
   "cell_type": "code",
   "execution_count": 19,
   "metadata": {},
   "outputs": [
    {
     "name": "stdout",
     "output_type": "stream",
     "text": [
      "len big_list  4993573\n",
      "908353\n",
      "Wrote profile results to solution.py.lprof\n",
      "Timer unit: 1e-06 s\n",
      "\n",
      "Total time: 9.55295 s\n",
      "File: solution.py\n",
      "Function: removeDuplicates at line 12\n",
      "\n",
      "Line #      Hits         Time  Per Hit   % Time  Line Contents\n",
      "==============================================================\n",
      "    12                                               @profile\n",
      "    13                                               def removeDuplicates(self, nums):\n",
      "    14                                                   \"\"\"\n",
      "    15                                                   :type nums: List[int]\n",
      "    16                                                   :rtype: int\n",
      "    17                                                   \"\"\"\n",
      "    18         1          9.0      9.0      0.0          length = len(nums)\n",
      "    19         1          1.0      1.0      0.0          if length == 0:\n",
      "    20                                                       return 0\n",
      "    21         1          0.0      0.0      0.0          i = 1\n",
      "    22         1          0.0      0.0      0.0          max_id = 0\n",
      "    23         1          0.0      0.0      0.0          max_val = nums[max_id]\n",
      "    24   4993573    2036572.0      0.4     21.3          while i < length:\n",
      "    25   4993572    2254330.0      0.5     23.6              if max_val == nums[i]:\n",
      "    26   4085220    1736952.0      0.4     18.2                  i += 1\n",
      "    27   4085220    1479735.0      0.4     15.5                  continue\n",
      "    28    908352     429401.0      0.5      4.5              elif nums[i] > max_val:\n",
      "    29    908352     380742.0      0.4      4.0                  max_val = nums[i]\n",
      "    30    908352     398103.0      0.4      4.2                  max_id += 1\n",
      "    31    908352     437387.0      0.5      4.6                  nums[max_id] = nums[i]\n",
      "    32    908352     399715.0      0.4      4.2              i += 1\n",
      "    33         1          1.0      1.0      0.0          return max_id + 1\n",
      "\n"
     ]
    }
   ],
   "source": [
    "!kernprof -l -v solution.py"
   ]
  },
  {
   "cell_type": "markdown",
   "metadata": {},
   "source": [
    "这里看了下，发现好像有一句本来就不是必要的 `continue` 被执行了 4085220 次。而这个是可以去掉的，一般情况下，较少的指令操作会带来更快的操作速度（一般情况下，根据指令的复杂程度决定执行效率）。\n",
    "\n",
    "另外，这里 `i+=1` 在 `if ... else` 的两个分支里都会执行到。所以我们可以尝试修改一下。改成如下样子:\n",
    "\n",
    "```python\n",
    "while i < length:\n",
    "    if nums[i] > max_val:\n",
    "        max_id += 1\n",
    "        max_val = nums[i]\n",
    "        nums[max_id] = nums[i]\n",
    "    i += 1\n",
    "```\n",
    "\n",
    "再次执行一下分析。"
   ]
  },
  {
   "cell_type": "code",
   "execution_count": 20,
   "metadata": {},
   "outputs": [
    {
     "name": "stdout",
     "output_type": "stream",
     "text": [
      "len big_list  4995163\n",
      "908617\n",
      "Wrote profile results to solution.1.py.lprof\n",
      "Timer unit: 1e-06 s\n",
      "\n",
      "Total time: 7.73485 s\n",
      "File: solution.1.py\n",
      "Function: removeDuplicates at line 12\n",
      "\n",
      "Line #      Hits         Time  Per Hit   % Time  Line Contents\n",
      "==============================================================\n",
      "    12                                               @profile\n",
      "    13                                               def removeDuplicates(self, nums):\n",
      "    14                                                   \"\"\"\n",
      "    15                                                   :type nums: List[int]\n",
      "    16                                                   :rtype: int\n",
      "    17                                                   \"\"\"\n",
      "    18         1          8.0      8.0      0.0          length = len(nums)\n",
      "    19         1          1.0      1.0      0.0          if length == 0:\n",
      "    20                                                       return 0\n",
      "    21         1          0.0      0.0      0.0          i = 1\n",
      "    22         1          0.0      0.0      0.0          max_id = 0\n",
      "    23         1          1.0      1.0      0.0          max_val = nums[max_id]\n",
      "    24   4995163    2098343.0      0.4     27.1          while i < length:\n",
      "    25   4995162    2301579.0      0.5     29.8              if nums[i] > max_val:\n",
      "    26    908616     393738.0      0.4      5.1                  max_id += 1\n",
      "    27    908616     375304.0      0.4      4.9                  max_val = nums[i]\n",
      "    28    908616     427793.0      0.5      5.5                  nums[max_id] = nums[i]\n",
      "    29   4995162    2138087.0      0.4     27.6              i += 1\n",
      "    30         1          1.0      1.0      0.0          return max_id + 1\n",
      "\n"
     ]
    }
   ],
   "source": [
    "!kernprof -l -v solution.1.py"
   ]
  },
  {
   "cell_type": "markdown",
   "metadata": {},
   "source": [
    "可以看到，现在我们只要必要的判断处执行了 908616 次。相比之前少了 81%。\n",
    "\n",
    "现在我们尝试一下计算上面的耗时, 看看是否有达到我们的预期效果。"
   ]
  },
  {
   "cell_type": "code",
   "execution_count": 21,
   "metadata": {},
   "outputs": [],
   "source": [
    "class Solution:\n",
    "    def removeDuplicates(self, nums):\n",
    "        \"\"\"\n",
    "        :type nums: List[int]\n",
    "        :rtype: int\n",
    "        \"\"\"\n",
    "        length = len(nums)\n",
    "        if length == 0:\n",
    "            return 0\n",
    "        i = 1\n",
    "        max_id = 0\n",
    "        max_val = nums[max_id]\n",
    "        while i < length:\n",
    "            if nums[i] > max_val:\n",
    "                max_id += 1\n",
    "                max_val = nums[i]\n",
    "                nums[max_id] = nums[i]\n",
    "            i += 1\n",
    "        return max_id + 1\n",
    "\n",
    "big_list_four = copy.copy(big_list)"
   ]
  },
  {
   "cell_type": "code",
   "execution_count": 22,
   "metadata": {},
   "outputs": [
    {
     "name": "stdout",
     "output_type": "stream",
     "text": [
      "707 ms ± 2.66 ms per loop (mean ± std. dev. of 7 runs, 1 loop each)\n"
     ]
    }
   ],
   "source": [
    "%%timeit\n",
    "big_list_four[:Solution().removeDuplicates(big_list_four)]"
   ]
  },
  {
   "cell_type": "markdown",
   "metadata": {},
   "source": [
    "可以看到这次优化，和原来的算法相比带来了 30% 的性能提升。\n",
    "\n",
    "最后把优化过的算法提交到 LeetCode 上。可以看到大概通过测试用例是 84ms 的样子。比之前有提升，不过好像 LeetCode 好像同一个算法的执行时间会有所不同，所以这个时间看看就好。:)"
   ]
  },
  {
   "cell_type": "markdown",
   "metadata": {},
   "source": [
    "## 其他解\n",
    "\n",
    "这里毕竟只是一个解。接下来分析一下 在 LeetCode 上的执行耗时最短的几个解。"
   ]
  },
  {
   "cell_type": "markdown",
   "metadata": {},
   "source": [
    "### 解一\n",
    "\n",
    "这个执行时间是64ms 。见如下代码:"
   ]
  },
  {
   "cell_type": "code",
   "execution_count": 24,
   "metadata": {},
   "outputs": [],
   "source": [
    "class SolutionSecond:\n",
    "    def removeDuplicates(self, nums):\n",
    "        \"\"\"\n",
    "        :type nums: List[int]\n",
    "        :rtype: int\n",
    "        \"\"\"\n",
    "        if not nums:\n",
    "            return 0\n",
    "        length = len(nums)\n",
    "        if length == 1:\n",
    "            return 1\n",
    "        i = 0\n",
    "        j = 1\n",
    "        while j < length:\n",
    "            if(nums[i] == nums[j]):\n",
    "                j += 1\n",
    "            else:\n",
    "                i += 1\n",
    "                nums[i] = nums[j]\n",
    "                j += 1\n",
    "        return i+1\n",
    "\n",
    "big_list_five = copy.copy(big_list)"
   ]
  },
  {
   "cell_type": "markdown",
   "metadata": {},
   "source": [
    "这个思路大概和我的差不多，不同的是多了几个操作。这里尝试执行一下, 看看效率如何:"
   ]
  },
  {
   "cell_type": "code",
   "execution_count": 25,
   "metadata": {
    "scrolled": true
   },
   "outputs": [
    {
     "name": "stdout",
     "output_type": "stream",
     "text": [
      "1.06 s ± 109 ms per loop (mean ± std. dev. of 7 runs, 1 loop each)\n"
     ]
    }
   ],
   "source": [
    "%%timeit\n",
    "big_list_five[:SolutionSecond().removeDuplicates(big_list_five)]"
   ]
  },
  {
   "cell_type": "markdown",
   "metadata": {},
   "source": [
    "可以看出来，在针对大数组的执行上，这个算法的效率有所降低，和上面的算法相比，多了几步操作。具体可以参看上文解释。\n",
    "\n",
    "这里和我们原本的第一次的算法比较，差距并不是很大。可见赋值和判断等我们直观上会带来开销的操作，反而是无足轻重的。"
   ]
  },
  {
   "cell_type": "markdown",
   "metadata": {},
   "source": [
    "### 解二\n",
    "\n",
    "这个解是 LeetCode 执行时间最短的，只有60ms。我们来看看他的代码:"
   ]
  },
  {
   "cell_type": "code",
   "execution_count": 26,
   "metadata": {},
   "outputs": [],
   "source": [
    "class SolutionFirst:\n",
    "    def removeDuplicates(self, nums):\n",
    "        \"\"\"\n",
    "        :type nums: List[int]\n",
    "        :rtype: int\n",
    "        \"\"\"\n",
    "        nums[:] = sorted(set(nums))\n",
    "        return len(nums)\n",
    "\n",
    "big_list_six = copy.copy(big_list)"
   ]
  },
  {
   "cell_type": "markdown",
   "metadata": {},
   "source": [
    "emmmmm，这里代码很简单，让我们进行第一印象的分析。\n",
    "\n",
    "首先这里通过一个数据结构转为了字典进行去重，要知道数组转为字典的复杂度可是 `O(n)`, 可以预计到这个算法在大数组的前提下性能可能不是很好了；\n",
    "\n",
    "其次这里使用了 `sorted` 的内置函数进行排序，尽管python内部的排序也是一个混合了各种排序算法的高性能排序函数，但是这本身已经增加了算法的复杂度了。\n",
    "\n",
    "执行一下看看同样大小的大数组，它的执行时间："
   ]
  },
  {
   "cell_type": "code",
   "execution_count": 27,
   "metadata": {},
   "outputs": [
    {
     "name": "stdout",
     "output_type": "stream",
     "text": [
      "74.4 ms ± 6.28 ms per loop (mean ± std. dev. of 7 runs, 10 loops each)\n"
     ]
    }
   ],
   "source": [
    "%%timeit\n",
    "big_list_six[:SolutionFirst().removeDuplicates(big_list_six)]"
   ]
  },
  {
   "cell_type": "markdown",
   "metadata": {},
   "source": [
    "what ？？？ 这里有点不敢执行，居然差了一个数量级。难道是我的数据有问题？重新检测一下。"
   ]
  },
  {
   "cell_type": "code",
   "execution_count": 28,
   "metadata": {
    "scrolled": true
   },
   "outputs": [
    {
     "data": {
      "text/plain": [
       "909265"
      ]
     },
     "execution_count": 28,
     "metadata": {},
     "output_type": "execute_result"
    }
   ],
   "source": [
    "len(big_list_six) # 这里打印出这么小是因为 原数组在函数中被改变大小了"
   ]
  },
  {
   "cell_type": "code",
   "execution_count": 29,
   "metadata": {},
   "outputs": [
    {
     "data": {
      "text/plain": [
       "5003009"
      ]
     },
     "execution_count": 29,
     "metadata": {},
     "output_type": "execute_result"
    }
   ],
   "source": [
    "len(big_list) # 但原数据是没有问题的"
   ]
  },
  {
   "cell_type": "markdown",
   "metadata": {},
   "source": [
    "这和我们的预期不太一样，理论上来说，这个算法的复杂度应该要大于我们上面的解法。但事实上内置函数的执行效率上比我们快了一个数量级。\n",
    "\n",
    "还有几点存疑？\n",
    "\n",
    "* 和转为set相比，这个算法的性能消耗点在哪里？\n",
    "\n",
    "\n",
    "* 为什么将list转置为set的时候，效率执行很快？什么原因导致的效率这么高?\n",
    "\n",
    "\n",
    "* sorted 函数的排序效率？\n",
    "\n",
    "这里暂且先记下来这两个问题，等待后续解答吧。如果你有更好的解释，也可以在下面留言告诉我。"
   ]
  }
 ],
 "metadata": {
  "kernelspec": {
   "display_name": "Python 3",
   "language": "python",
   "name": "python3"
  },
  "language_info": {
   "codemirror_mode": {
    "name": "ipython",
    "version": 3
   },
   "file_extension": ".py",
   "mimetype": "text/x-python",
   "name": "python",
   "nbconvert_exporter": "python",
   "pygments_lexer": "ipython3",
   "version": "3.6.2"
  },
  "toc": {
   "base_numbering": 1,
   "nav_menu": {},
   "number_sections": true,
   "sideBar": true,
   "skip_h1_title": false,
   "title_cell": "Table of Contents",
   "title_sidebar": "Contents",
   "toc_cell": false,
   "toc_position": {},
   "toc_section_display": true,
   "toc_window_display": true
  }
 },
 "nbformat": 4,
 "nbformat_minor": 2
}
