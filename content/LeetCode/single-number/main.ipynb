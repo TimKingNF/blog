{
 "cells": [
  {
   "cell_type": "markdown",
   "metadata": {},
   "source": [
    "# 只出现一次的数字\n",
    "\n",
    "* Slug: single-number\n",
    "\n",
    "* Date: 2018-06-25\n",
    "\n",
    "* Category: LeetCode\n",
    "\n",
    "* Tags: 数组, 算法\n",
    "\n",
    "* Author: timking\n",
    "\n",
    "* Summary: LeetCode - 探索 - 初级算法"
   ]
  },
  {
   "cell_type": "markdown",
   "metadata": {},
   "source": [
    "> [原文链接](https://leetcode-cn.com/problems/single-number/description/)"
   ]
  },
  {
   "cell_type": "markdown",
   "metadata": {},
   "source": [
    "给定一个非空整数数组，除了某个元素只出现一次以外，其余每个元素均出现两次。找出那个只出现了一次的元素。\n",
    "\n",
    "**说明：**\n",
    "\n",
    "你的算法应该具有线性时间复杂度。 你可以不使用额外空间来实现吗？\n",
    "\n",
    "**示例 1:**\n",
    "\n",
    "```\n",
    "输入: [2,2,1]\n",
    "输出: 1\n",
    "```\n",
    "\n",
    "**示例 2:**\n",
    "\n",
    "```\n",
    "输入: [4,1,2,1,2]\n",
    "输出: 4\n",
    "```"
   ]
  },
  {
   "cell_type": "markdown",
   "metadata": {},
   "source": [
    "## 解答\n",
    "\n",
    "一开始没有想到什么好办法，题目限制死了不使用额外空间。而一开始的解答明显并不符合题意。"
   ]
  },
  {
   "cell_type": "code",
   "execution_count": 1,
   "metadata": {},
   "outputs": [],
   "source": [
    "class Solution:\n",
    "    def singleNumber(self, nums):\n",
    "        \"\"\"\n",
    "        :type nums: List[int]\n",
    "        :rtype: int\n",
    "        \"\"\"\n",
    "        sum_a = sum(nums)\n",
    "        sum_b = sum(set(nums))\n",
    "        return sum_b * 2 - sum_a"
   ]
  },
  {
   "cell_type": "markdown",
   "metadata": {},
   "source": [
    "后来经过同事提示之后，发现，题目重点是**整数**, **出现两次**。 所以可以通过数字的二进制运算来做这道题目。\n",
    "\n",
    "将相同的两个数字异或，其值为0。所以将所有值异或一遍，就能得到最后只出现一次的元素，并且也满足题意。"
   ]
  },
  {
   "cell_type": "code",
   "execution_count": 2,
   "metadata": {},
   "outputs": [],
   "source": [
    "class Solution:\n",
    "    def singleNumber(self, nums):\n",
    "        \"\"\"\n",
    "        :type nums: List[int]\n",
    "        :rtype: int\n",
    "        \"\"\"\n",
    "        first = nums[0]\n",
    "        for i in range(1, len(nums)):\n",
    "            first ^= nums[i]        \n",
    "        return first   "
   ]
  },
  {
   "cell_type": "markdown",
   "metadata": {},
   "source": [
    "总结一下，其实这里还是被过去的思维限制死了，一直想到的都是数组循环操作。而没有想到可以利用二进制运算，其实 LeetCode 上很多题目都是这个套路，下次应该注意 :("
   ]
  }
 ],
 "metadata": {
  "kernelspec": {
   "display_name": "Python 3",
   "language": "python",
   "name": "python3"
  },
  "language_info": {
   "codemirror_mode": {
    "name": "ipython",
    "version": 3
   },
   "file_extension": ".py",
   "mimetype": "text/x-python",
   "name": "python",
   "nbconvert_exporter": "python",
   "pygments_lexer": "ipython3",
   "version": "3.6.2"
  },
  "toc": {
   "base_numbering": 1,
   "nav_menu": {},
   "number_sections": true,
   "sideBar": true,
   "skip_h1_title": false,
   "title_cell": "Table of Contents",
   "title_sidebar": "Contents",
   "toc_cell": false,
   "toc_position": {},
   "toc_section_display": true,
   "toc_window_display": false
  }
 },
 "nbformat": 4,
 "nbformat_minor": 2
}
