{
 "cells": [
  {
   "cell_type": "markdown",
   "metadata": {},
   "source": [
    "# 买卖股票的最佳时机 II\n",
    "\n",
    "* Slug: best-time-to-buy-and-sell-stock-ii\n",
    "\n",
    "* Date: 2018-06-22\n",
    "\n",
    "* Category: LeetCode\n",
    "\n",
    "* Tags: 数组, 算法\n",
    "\n",
    "* Author: timking\n",
    "\n",
    "* Summary: LeetCode - 探索 - 初级算法"
   ]
  },
  {
   "cell_type": "markdown",
   "metadata": {},
   "source": [
    "> [原文链接](https://leetcode-cn.com/explore/interview/card/top-interview-questions-easy/1/array/22/)"
   ]
  },
  {
   "cell_type": "markdown",
   "metadata": {},
   "source": [
    "给定一个数组，它的第 i 个元素是一支给定股票第 i 天的价格。\n",
    "\n",
    "设计一个算法来计算你所能获取的最大利润。你可以尽可能地完成更多的交易（多次买卖一支股票）。\n",
    "\n",
    "**注意**：你不能同时参与多笔交易（你必须在再次购买前出售掉之前的股票）。\n",
    "\n",
    "**示例 1:**\n",
    "\n",
    "```\n",
    "输入: [7,1,5,3,6,4]\n",
    "输出: 7\n",
    "解释: \n",
    "    在第 2 天（股票价格 = 1）的时候买入，在第 3 天（股票价格 = 5）的时候卖出, 这笔交易所能获得利润 = 5-1 = 4 。\n",
    "    随后，在第 4 天（股票价格 = 3）的时候买入，在第 5 天（股票价格 = 6）的时候卖出, 这笔交易所能获得利润 = 6-3 = 3 。\n",
    "```\n",
    "\n",
    "**示例 2:**\n",
    "\n",
    "```\n",
    "输入: [1,2,3,4,5]\n",
    "输出: 4\n",
    "解释: \n",
    "    在第 1 天（股票价格 = 1）的时候买入，在第 5 天 （股票价格 = 5）的时候卖出, 这笔交易所能获得利润 = 5-1 = 4 。\n",
    "    注意你不能在第 1 天和第 2 天接连购买股票，之后再将它们卖出。\n",
    "    因为这样属于同时参与了多笔交易，你必须在再次购买前出售掉之前的股票。\n",
    "```\n",
    "\n",
    "**示例 3:**\n",
    "\n",
    "```\n",
    "输入: [7,6,4,3,1]\n",
    "输出: 0\n",
    "解释: \n",
    "    在这种情况下, 没有交易完成, 所以最大利润为 0。\n",
    "```"
   ]
  },
  {
   "cell_type": "markdown",
   "metadata": {},
   "source": [
    "## 初步解答\n",
    "\n",
    "初步看了题目之后，首先想到的是，寻找一个数组中的最小值，然后从该最小值下标的右数组再找最大值，两者相减就是收益，然后再将最大值下标的右数组重复操作，得到结果。"
   ]
  },
  {
   "cell_type": "code",
   "execution_count": 1,
   "metadata": {},
   "outputs": [],
   "source": [
    "class Solution:\n",
    "    def maxProfit(self, prices):\n",
    "        \"\"\"\n",
    "        :type prices: List[int]\n",
    "        :rtype: int\n",
    "        \"\"\"\n",
    "        length = len(prices)\n",
    "        if length <= 1:\n",
    "            return 0\n",
    "        min_price = min(prices)\n",
    "        min_index = prices.index(min_price)\n",
    "        left_prices = prices[min_index:]\n",
    "        max_price = max(left_prices)\n",
    "        max_index = left_prices.index(max_price) + min_index\n",
    "        benefit = max_price - min_price\n",
    "        if max_index < length:\n",
    "            benefit += Solution().maxProfit(prices[max_index:])\n",
    "        return benefit"
   ]
  },
  {
   "cell_type": "code",
   "execution_count": 2,
   "metadata": {},
   "outputs": [
    {
     "data": {
      "text/plain": [
       "5"
      ]
     },
     "execution_count": 2,
     "metadata": {},
     "output_type": "execute_result"
    }
   ],
   "source": [
    "a = [7,1,5,3,6,4]\n",
    "Solution().maxProfit(a)"
   ]
  },
  {
   "cell_type": "markdown",
   "metadata": {},
   "source": [
    "但是很可惜，这个结果和题目给出的结果不符。"
   ]
  },
  {
   "cell_type": "markdown",
   "metadata": {},
   "source": [
    "## 第二次解答\n",
    "\n",
    "再次审题之后发现，题目是要求求一个数组的最大收益。所以应当思考在何种方式下求出最大收益。\n",
    "\n",
    "通过对题目数组，我们可以计算两天收益的相邻之差，得到一个新数组。这样就将问题转化，求该数组的累计和。"
   ]
  },
  {
   "cell_type": "code",
   "execution_count": 3,
   "metadata": {},
   "outputs": [],
   "source": [
    "class Solution:\n",
    "    def maxProfit(self, prices):\n",
    "        \"\"\"\n",
    "        :type prices: List[int]\n",
    "        :rtype: int\n",
    "        \"\"\"\n",
    "        length = len(prices)\n",
    "        if length <= 1:\n",
    "            return 0\n",
    "        benefits = []\n",
    "        i = 1\n",
    "        while i < length:\n",
    "            benefit = prices[i] - prices[i-1]\n",
    "            benefits.append( benefit if benefit > 0 else 0 )\n",
    "            i+=1\n",
    "        return sum(benefits)"
   ]
  },
  {
   "cell_type": "markdown",
   "metadata": {},
   "source": [
    "提交到LeetCode上测试通过。emmm 算法是没什么问题了，但是执行时间是属于比较 low 的那一档。\n",
    "\n",
    "接下来继续进行优化。"
   ]
  },
  {
   "cell_type": "markdown",
   "metadata": {},
   "source": [
    "## 优化\n",
    "\n",
    "优化思路：\n",
    "\n",
    "* 首先我们无需需要一个数组来存储邻接差，只需要创建一个数值来累加就好，这样就节省了一个函数调用（sum）和数组空间。\n",
    "\n",
    "\n",
    "* 其次，我们的思路是 邻接差 大于0 才累加，否则为0 。则我们可以判断 下一个值是否大于上一个值， 这样就节省一个三元表达式的判断。这里需要值得注意的是，我们需要用本地变量来保存两个值。\n",
    "\n",
    "以下是他们之间的执行时间，可以看到，这次修改会给我们带来 25% 的性能提升。\n",
    " \n",
    "**original**\n",
    "```\n",
    "2.06 µs ± 8.61 ns per loop (mean ± std. dev. of 7 runs, 100000 loops each)\n",
    "```\n",
    "\n",
    "**第一次修改**\n",
    "```\n",
    "1.54 µs ± 4.5 ns per loop (mean ± std. dev. of 7 runs, 1000000 loops each)\n",
    "```\n",
    "\n",
    "修改之后的代码如下:"
   ]
  },
  {
   "cell_type": "code",
   "execution_count": 4,
   "metadata": {},
   "outputs": [],
   "source": [
    "class Solution:\n",
    "    def maxProfit(self, prices):\n",
    "        \"\"\"\n",
    "        :type prices: List[int]\n",
    "        :rtype: int\n",
    "        \"\"\"\n",
    "        length = len(prices)\n",
    "        if length <= 1:\n",
    "            return 0\n",
    "        benefits = 0\n",
    "        i = 1\n",
    "        while i < length:\n",
    "            second = prices[i]\n",
    "            first = prices[i-1]\n",
    "            if second - first > 0:\n",
    "                benefits += second - first\n",
    "            i+=1\n",
    "        return benefits"
   ]
  },
  {
   "cell_type": "markdown",
   "metadata": {},
   "source": [
    "提交上去之后，发现执行用例大约在60ms。再参考一下第一名 40ms 的答案。"
   ]
  },
  {
   "cell_type": "code",
   "execution_count": 5,
   "metadata": {},
   "outputs": [],
   "source": [
    "class Solution:\n",
    "    def maxProfit(self, prices):\n",
    "        \"\"\"\n",
    "        :type prices: List[int]\n",
    "        :rtype: int\n",
    "        \"\"\"\n",
    "        profit = 0\n",
    "        for i in range(1,len(prices)):\n",
    "            if prices[i] > prices[i-1]:\n",
    "                profit += prices[i]-prices[i-1]\n",
    "        return profit"
   ]
  },
  {
   "cell_type": "code",
   "execution_count": 6,
   "metadata": {},
   "outputs": [
    {
     "name": "stdout",
     "output_type": "stream",
     "text": [
      "1.55 µs ± 29.9 ns per loop (mean ± std. dev. of 7 runs, 1000000 loops each)\n"
     ]
    }
   ],
   "source": [
    "%timeit Solution().maxProfit(a)"
   ]
  },
  {
   "cell_type": "markdown",
   "metadata": {},
   "source": [
    "发现差距并没有想象中的大，至此解答就到这里。"
   ]
  },
  {
   "cell_type": "markdown",
   "metadata": {},
   "source": [
    "## 变种问题\n",
    "\n",
    "我们将这个问题变种一下，求在获得最大收益的同时，给出操作方案, 在不操作的时候为0，购买的时候为1，卖出的时候为2。\n",
    "\n",
    "输出一个与 prices 等长的操作方案的 list。"
   ]
  },
  {
   "cell_type": "code",
   "execution_count": 7,
   "metadata": {},
   "outputs": [],
   "source": [
    "class Solution:\n",
    "    def maxProfit(self, prices):\n",
    "        \"\"\"\n",
    "        :type prices: List[int]\n",
    "        :rtype: int\n",
    "        \"\"\"\n",
    "        length = len(prices)\n",
    "        if length <= 1:\n",
    "            return 0, [0] * length\n",
    "        benefits = 0\n",
    "        operations = {0: 0}\n",
    "        i = 1\n",
    "        while i < length:\n",
    "            second = prices[i]\n",
    "            first = prices[i-1]\n",
    "            if second - first > 0:\n",
    "                benefits += second - first\n",
    "                operations[i-1] = 1\n",
    "                operations[i] = 2\n",
    "            else:\n",
    "                operations[i] = 0\n",
    "            i+=1\n",
    "        return benefits, list(operations.values())"
   ]
  },
  {
   "cell_type": "code",
   "execution_count": 8,
   "metadata": {},
   "outputs": [
    {
     "data": {
      "text/plain": [
       "(7, [0, 1, 2, 1, 2, 0])"
      ]
     },
     "execution_count": 8,
     "metadata": {},
     "output_type": "execute_result"
    }
   ],
   "source": [
    "Solution().maxProfit(a)"
   ]
  }
 ],
 "metadata": {
  "kernelspec": {
   "display_name": "Python 3",
   "language": "python",
   "name": "python3"
  },
  "language_info": {
   "codemirror_mode": {
    "name": "ipython",
    "version": 3
   },
   "file_extension": ".py",
   "mimetype": "text/x-python",
   "name": "python",
   "nbconvert_exporter": "python",
   "pygments_lexer": "ipython3",
   "version": "3.6.2"
  },
  "toc": {
   "base_numbering": 1,
   "nav_menu": {},
   "number_sections": true,
   "sideBar": true,
   "skip_h1_title": false,
   "title_cell": "Table of Contents",
   "title_sidebar": "Contents",
   "toc_cell": false,
   "toc_position": {},
   "toc_section_display": true,
   "toc_window_display": true
  }
 },
 "nbformat": 4,
 "nbformat_minor": 2
}
