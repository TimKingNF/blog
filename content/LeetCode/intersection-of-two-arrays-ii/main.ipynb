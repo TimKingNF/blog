{
 "cells": [
  {
   "cell_type": "markdown",
   "metadata": {},
   "source": [
    "> [原文链接](https://leetcode-cn.com/problems/intersection-of-two-arrays-ii/description/)"
   ]
  },
  {
   "cell_type": "markdown",
   "metadata": {},
   "source": [
    "给定两个数组，写一个方法来计算它们的交集。\n",
    "\n",
    "例如: 给定 nums1 = [1, 2, 2, 1], nums2 = [2, 2], 返回 [2, 2].\n",
    "\n",
    "**注意：**\n",
    "\n",
    "* 输出结果中每个元素出现的次数，应与元素在两个数组中出现的次数一致。\n",
    "   \n",
    "   \n",
    "* 我们可以不考虑输出结果的顺序。\n",
    "\n",
    "**跟进:**\n",
    "\n",
    "* 如果给定的数组已经排好序呢？你将如何优化你的算法？\n",
    "    \n",
    "\n",
    "* 如果 nums1 的大小比 nums2 小很多，哪种方法更优？\n",
    "    \n",
    "    \n",
    "* 如果nums2的元素存储在磁盘上，内存是有限的，你不能一次加载所有的元素到内存中，你该怎么办？"
   ]
  },
  {
   "cell_type": "markdown",
   "metadata": {},
   "source": [
    "## 初步解答\n",
    "\n",
    "首先先考虑如何实现这个算法。从题目看是要求返回交集数组，需要注意的地方题目也已经给标注出来了。\n",
    "\n",
    "这边不要求输出结果顺序，所以比较简单。因为要求交集元素保留在结果数组中的次数，所以 set 结构无疑是不适用的。\n",
    "\n",
    "一开始想到利用数组的特性来做，得出以下代码："
   ]
  },
  {
   "cell_type": "code",
   "execution_count": 1,
   "metadata": {},
   "outputs": [],
   "source": [
    "class Solution:\n",
    "    def intersect(self, nums1, nums2):\n",
    "        \"\"\"\n",
    "        :type nums1: List[int]\n",
    "        :type nums2: List[int]\n",
    "        :rtype: List[int]\n",
    "        \"\"\"\n",
    "        ret = []\n",
    "        rng = nums1\n",
    "        in_arr = nums2\n",
    "        if len(nums1) < len(nums2):\n",
    "            rng = nums2\n",
    "            in_arr = nums1\n",
    "        for i in rng:\n",
    "            if i in in_arr:\n",
    "                ret.append(i)\n",
    "                in_arr.remove(i)\n",
    "        return ret"
   ]
  },
  {
   "cell_type": "markdown",
   "metadata": {},
   "source": [
    "但是这样做有个缺点，在一个未排序的数组中，判断是否存在 `in` 和 `remove` 操作复杂度都为 `O(n)`, 这将会带来额外开销。\n",
    "\n",
    "所以，其实这个算法在数据量比较大的情况下是不适用的。"
   ]
  },
  {
   "cell_type": "markdown",
   "metadata": {},
   "source": [
    "## 优化\n",
    "\n",
    "这边就按给定的跟进思路来继续优化。\n",
    "\n",
    "如果给定的数组是已经优化好的呢，或者一个数组要比另一个数组小的多。\n",
    "\n",
    "从这一点上考虑，假定是排序好的数组，可以通过比较两个数组相同下标的值来判断，如果存在下标不等的情况则其中一个数组下标前移。\n",
    "\n",
    "根据这个思路，写出以下代码："
   ]
  },
  {
   "cell_type": "code",
   "execution_count": 2,
   "metadata": {},
   "outputs": [],
   "source": [
    "class Solution:\n",
    "    def intersect(self, nums1, nums2):\n",
    "        \"\"\"\n",
    "        :type nums1: List[int]\n",
    "        :type nums2: List[int]\n",
    "        :rtype: List[int]\n",
    "        \"\"\"\n",
    "        nums1.sort()\n",
    "        nums2.sort()\n",
    "        \n",
    "        ret = []\n",
    "        i = 0\n",
    "        j = 0\n",
    "        while i < len(nums1) and j < len(nums2):\n",
    "            z = nums1[i] - nums2[j]\n",
    "            if z == 0:\n",
    "                ret.append(nums1[i])\n",
    "                i += 1\n",
    "                j += 1\n",
    "            elif z > 0:\n",
    "                j += 1\n",
    "            else:\n",
    "                i += 1\n",
    "        return ret"
   ]
  },
  {
   "cell_type": "markdown",
   "metadata": {},
   "source": [
    "在这个算法里，首先先对两个数组进行排序，然后在循环结束之前比较两个下标的值，如果值相等则说明存在相同项，下标均前移；如果不等则只前移其中一个。\n",
    "\n",
    "这样的好处在于，算法的循环始终为较小数组的长度n，这里就解决了刚刚的第二问。\n",
    "\n",
    "缺点在于，我们需要对该数组进行排序。不过python中的`sort`本身就是混合了多种排序方法的一个高效排序手段，性能上虽有一点开销，但是无疑比第一种解答要高。"
   ]
  },
  {
   "cell_type": "markdown",
   "metadata": {},
   "source": [
    "## 针对第三个问题\n",
    "\n",
    "针对第三个问题，如果数组特别大的情况下，那么就难以完成排序操作。这边暂时没有什么思路。。后续想到再进行补充"
   ]
  }
 ],
 "metadata": {
  "kernelspec": {
   "display_name": "Python 3",
   "language": "python",
   "name": "python3"
  },
  "language_info": {
   "codemirror_mode": {
    "name": "ipython",
    "version": 3
   },
   "file_extension": ".py",
   "mimetype": "text/x-python",
   "name": "python",
   "nbconvert_exporter": "python",
   "pygments_lexer": "ipython3",
   "version": "3.6.2"
  },
  "toc": {
   "base_numbering": 1,
   "nav_menu": {},
   "number_sections": true,
   "sideBar": true,
   "skip_h1_title": false,
   "title_cell": "Table of Contents",
   "title_sidebar": "Contents",
   "toc_cell": false,
   "toc_position": {},
   "toc_section_display": true,
   "toc_window_display": false
  }
 },
 "nbformat": 4,
 "nbformat_minor": 2
}
