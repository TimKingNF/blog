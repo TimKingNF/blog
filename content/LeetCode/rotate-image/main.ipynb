{
 "cells": [
  {
   "cell_type": "markdown",
   "metadata": {},
   "source": [
    "# 旋转图像\n",
    "\n",
    "* Slug: rotate-image\n",
    "\n",
    "* Date: 2018-07-08\n",
    "\n",
    "* Category: LeetCode\n",
    "\n",
    "* Tags: 数组, 算法\n",
    "\n",
    "* Author: timking\n",
    "\n",
    "* Summary: LeetCode - 探索 - 初级算法"
   ]
  },
  {
   "cell_type": "markdown",
   "metadata": {},
   "source": [
    "> [原文链接](https://leetcode-cn.com/problems/rotate-image/description/)"
   ]
  },
  {
   "cell_type": "markdown",
   "metadata": {},
   "source": [
    "给定一个 n × n 的二维矩阵表示一个图像。\n",
    "\n",
    "将图像顺时针旋转 90 度。\n",
    "\n",
    "说明：\n",
    "\n",
    "你必须在原地旋转图像，这意味着你需要直接修改输入的二维矩阵。请不要使用另一个矩阵来旋转图像。\n",
    "\n",
    "**示例 1:**\n",
    "\n",
    "```\n",
    "给定 matrix = \n",
    "[\n",
    "  [1,2,3],\n",
    "  [4,5,6],\n",
    "  [7,8,9]\n",
    "],\n",
    "\n",
    "原地旋转输入矩阵，使其变为:\n",
    "[\n",
    "  [7,4,1],\n",
    "  [8,5,2],\n",
    "  [9,6,3]\n",
    "]\n",
    "```\n",
    "\n",
    "**示例 2:**\n",
    "\n",
    "```\n",
    "给定 matrix =\n",
    "[\n",
    "  [ 5, 1, 9,11],\n",
    "  [ 2, 4, 8,10],\n",
    "  [13, 3, 6, 7],\n",
    "  [15,14,12,16]\n",
    "], \n",
    "\n",
    "原地旋转输入矩阵，使其变为:\n",
    "[\n",
    "  [15,13, 2, 5],\n",
    "  [14, 3, 4, 1],\n",
    "  [12, 6, 8, 9],\n",
    "  [16, 7,10,11]\n",
    "]\n",
    "```"
   ]
  },
  {
   "cell_type": "markdown",
   "metadata": {},
   "source": [
    "## 解答"
   ]
  },
  {
   "cell_type": "markdown",
   "metadata": {},
   "source": [
    "这道图一开始我没什么思路，大概想法就是沿着对角线交换两个对称的数值，先按行将两侧元素以 `n//2` 为对称两两交换，然后再按对角线，交换对称元素。\n",
    "\n",
    "这里需要值得注意的一点是，有些元素会在交换之后，再次交换，所以需要记录一下交换的位置，防止再次交换。\n",
    "\n",
    "代码如下:"
   ]
  },
  {
   "cell_type": "code",
   "execution_count": 1,
   "metadata": {},
   "outputs": [],
   "source": [
    "class Solution:\n",
    "    def rotate(self, matrix):\n",
    "        \"\"\"\n",
    "        :type matrix: List[List[int]]\n",
    "        :rtype: void Do not return anything, modify matrix in-place instead.\n",
    "        \"\"\"\n",
    "        n = len(matrix)\n",
    "        # 先交换行的每行元素, 0与n, 1与n-1两两交换\n",
    "        for i in range(n):\n",
    "            for j in range(n//2):\n",
    "                matrix[i][j], matrix[i][n-j-1] = matrix[i][n-j-1], matrix[i][j]\n",
    "        changed = set()\n",
    "        # 再交换斜列元素\n",
    "        for i in range(n-1):\n",
    "            for j in range(n-1):\n",
    "                if \"{},{}\".format(i, j) not in changed:\n",
    "                    matrix[i][j], matrix[n-j-1][n-i-1] = matrix[n-j-1][n-i-1], matrix[i][j]\n",
    "                    changed.add(\"{},{}\".format(i, j))\n",
    "                    changed.add(\"{},{}\".format(n-j-1, n-i-1))"
   ]
  },
  {
   "cell_type": "markdown",
   "metadata": {},
   "source": [
    "## 参考\n",
    "\n",
    "但是这个办法只是遍历了所有元素进行交换，并不能让我满意。只好参考一下其他排名的做法。在这里列出来。"
   ]
  },
  {
   "cell_type": "markdown",
   "metadata": {},
   "source": [
    "### 解法一"
   ]
  },
  {
   "cell_type": "code",
   "execution_count": 2,
   "metadata": {},
   "outputs": [],
   "source": [
    "class Solution:\n",
    "    def rotate(self, matrix):\n",
    "        \"\"\"\n",
    "        :type matrix: List[List[int]]\n",
    "        :rtype: void Do not return anything, modify matrix in-place instead.\n",
    "        \"\"\"\n",
    "        length = len(matrix)\n",
    "        temp = [[matrix[length-1-i][j] for i in range(length)] for j in range(length)]\n",
    "        for i in range(length):\n",
    "            matrix[i] = temp[i]"
   ]
  },
  {
   "cell_type": "markdown",
   "metadata": {},
   "source": [
    "第一种做法是计算出每个元素在移位之后的新下标位置之后构成一个新的数组，最后再将数组赋值到原数组上。\n",
    "\n",
    "其实这种做法，并不是很符合题意，但是从效率执行上来看，使用了列表推导式来加快执行。\n",
    "\n",
    "从题目中看，元素交换之后的位置按如下公式可得:\n",
    "\n",
    "$$i = n - j - 1$$\n",
    "\n",
    "$$j = i$$\n",
    "\n",
    "其中 `i` 为纵列， `j` 为横下标。我原来的思路主要是为了能够在原数组上直接交换，事先将 `j` 按 $j = n - j - 1$ 交换之后，再进行交换。 \n",
    "\n",
    "这里解法中使用了列表推导式来加快了一下执行效率, 大体上和我的解法还是一致的。"
   ]
  },
  {
   "cell_type": "markdown",
   "metadata": {},
   "source": [
    "### 解法二\n",
    "\n",
    "这里还看到一个比较有意思的解法，利用python中的高阶函数。\n",
    "\n",
    "解法如下:"
   ]
  },
  {
   "cell_type": "code",
   "execution_count": 3,
   "metadata": {},
   "outputs": [],
   "source": [
    "class Solution:\n",
    "    def rotate(self, matrix):\n",
    "        \"\"\"\n",
    "        :type matrix: List[List[int]]\n",
    "        :rtype: void Do not return anything, modify matrix in-place instead.\n",
    "        \"\"\"\n",
    "        matrix[:] = map(list,zip(*matrix[::-1])) "
   ]
  },
  {
   "cell_type": "markdown",
   "metadata": {},
   "source": [
    "首先将数组倒序排序之后，并使用zip将纵列元素重新组成一个新的list，最后赋值。这里值得记录 :)"
   ]
  }
 ],
 "metadata": {
  "kernelspec": {
   "display_name": "Python 3",
   "language": "python",
   "name": "python3"
  },
  "language_info": {
   "codemirror_mode": {
    "name": "ipython",
    "version": 3
   },
   "file_extension": ".py",
   "mimetype": "text/x-python",
   "name": "python",
   "nbconvert_exporter": "python",
   "pygments_lexer": "ipython3",
   "version": "3.6.2"
  },
  "toc": {
   "base_numbering": 1,
   "nav_menu": {},
   "number_sections": true,
   "sideBar": true,
   "skip_h1_title": false,
   "title_cell": "Table of Contents",
   "title_sidebar": "Contents",
   "toc_cell": false,
   "toc_position": {},
   "toc_section_display": true,
   "toc_window_display": false
  }
 },
 "nbformat": 4,
 "nbformat_minor": 2
}
