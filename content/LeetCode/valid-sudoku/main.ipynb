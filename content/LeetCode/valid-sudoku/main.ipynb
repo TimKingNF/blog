{
 "cells": [
  {
   "cell_type": "markdown",
   "metadata": {},
   "source": [
    "> [原文链接](https://leetcode-cn.com/problems/valid-sudoku/description/)"
   ]
  },
  {
   "cell_type": "markdown",
   "metadata": {},
   "source": [
    "判断一个 9x9 的数独是否有效。只需要根据以下规则，验证已经填入的数字是否有效即可。\n",
    "\n",
    "数字 1-9 在每一行只能出现一次。\n",
    "数字 1-9 在每一列只能出现一次。\n",
    "数字 1-9 在每一个以粗实线分隔的 3x3 宫内只能出现一次。\n",
    "\n",
    "![数独]({filename}/images/LeetCode/valid-sudoku/250px-Sudoku-by-L2G-20050714.png)\n",
    "\n",
    "上图是一个部分填充的有效的数独。\n",
    "\n",
    "数独部分空格内已填入了数字，空白格用 '.' 表示。\n",
    "\n",
    "**示例 1:**\n",
    "\n",
    "```\n",
    "输入:\n",
    "[\n",
    "  [\"5\",\"3\",\".\",\".\",\"7\",\".\",\".\",\".\",\".\"],\n",
    "  [\"6\",\".\",\".\",\"1\",\"9\",\"5\",\".\",\".\",\".\"],\n",
    "  [\".\",\"9\",\"8\",\".\",\".\",\".\",\".\",\"6\",\".\"],\n",
    "  [\"8\",\".\",\".\",\".\",\"6\",\".\",\".\",\".\",\"3\"],\n",
    "  [\"4\",\".\",\".\",\"8\",\".\",\"3\",\".\",\".\",\"1\"],\n",
    "  [\"7\",\".\",\".\",\".\",\"2\",\".\",\".\",\".\",\"6\"],\n",
    "  [\".\",\"6\",\".\",\".\",\".\",\".\",\"2\",\"8\",\".\"],\n",
    "  [\".\",\".\",\".\",\"4\",\"1\",\"9\",\".\",\".\",\"5\"],\n",
    "  [\".\",\".\",\".\",\".\",\"8\",\".\",\".\",\"7\",\"9\"]\n",
    "]\n",
    "输出: true\n",
    "```\n",
    "\n",
    "**示例 2:**\n",
    "\n",
    "```\n",
    "输入:\n",
    "[\n",
    "  [\"8\",\"3\",\".\",\".\",\"7\",\".\",\".\",\".\",\".\"],\n",
    "  [\"6\",\".\",\".\",\"1\",\"9\",\"5\",\".\",\".\",\".\"],\n",
    "  [\".\",\"9\",\"8\",\".\",\".\",\".\",\".\",\"6\",\".\"],\n",
    "  [\"8\",\".\",\".\",\".\",\"6\",\".\",\".\",\".\",\"3\"],\n",
    "  [\"4\",\".\",\".\",\"8\",\".\",\"3\",\".\",\".\",\"1\"],\n",
    "  [\"7\",\".\",\".\",\".\",\"2\",\".\",\".\",\".\",\"6\"],\n",
    "  [\".\",\"6\",\".\",\".\",\".\",\".\",\"2\",\"8\",\".\"],\n",
    "  [\".\",\".\",\".\",\"4\",\"1\",\"9\",\".\",\".\",\"5\"],\n",
    "  [\".\",\".\",\".\",\".\",\"8\",\".\",\".\",\"7\",\"9\"]\n",
    "]\n",
    "输出: false\n",
    "解释: 除了第一行的第一个数字从 5 改为 8 以外，空格内其他数字均与 示例1 相同。\n",
    "     但由于位于左上角的 3x3 宫内有两个 8 存在, 因此这个数独是无效的。\n",
    "```\n",
    "\n",
    "**说明:**\n",
    "\n",
    "* 一个有效的数独（部分已被填充）不一定是可解的。\n",
    "\n",
    "\n",
    "* 只需要根据以上规则，验证已经填入的数字是否有效即可。\n",
    "\n",
    "\n",
    "* 给定数独序列只包含数字 1-9 和字符 '.' 。\n",
    "\n",
    "\n",
    "* 给定数独永远是 9x9 形式的。"
   ]
  },
  {
   "cell_type": "markdown",
   "metadata": {},
   "source": [
    "## 解答\n",
    " \n",
    "初步看到题目的时候，判断思路比较简单，就是判断行、列和九宫格的矩阵是否存在重复的数字。\n",
    "\n",
    "我这边思路是通过，判断数字的实际个数，与数组 `set` 散列化之后的实际个数，如果大小不相等，则说明存在有重复的数字。\n",
    "\n",
    "通过重复比较行、列、九宫格的值，如果不相等则跳出返回。最后如果判断全部完成，则说明是一个合理的数独。\n",
    "\n",
    "写出代码如下："
   ]
  },
  {
   "cell_type": "code",
   "execution_count": 2,
   "metadata": {},
   "outputs": [],
   "source": [
    "class Solution:\n",
    "    def isValidSudoku(self, board):\n",
    "        \"\"\"\n",
    "        :type board: List[List[str]]\n",
    "        :rtype: bool\n",
    "        \"\"\"\n",
    "        from collections import Counter\n",
    "        for i in range(9):\n",
    "            column_list = [ board[j][i] for j in range(9) ] \n",
    "            matrix_x = i // 3\n",
    "            matrix_y = i%3\n",
    "            matrix = [\n",
    "                board[x][y]\n",
    "                for x in range(matrix_x*3, (matrix_x+1)*3)\n",
    "                for y in range(matrix_y*3, (matrix_y+1)*3)\n",
    "            ]\n",
    "            for v in (board[i], column_list, matrix):\n",
    "                if len(set(v)) - 1 != 9 - Counter(v)[\".\"]:\n",
    "                    return False\n",
    "        return True"
   ]
  },
  {
   "cell_type": "markdown",
   "metadata": {},
   "source": [
    "这里我利用了一个数据结构 `Counter` 来将数组转化为相应的计数器，然后通过判断分别判断行、列、九宫格是否存在重复数字。"
   ]
  },
  {
   "cell_type": "markdown",
   "metadata": {},
   "source": [
    "## 优化\n",
    "\n",
    "但是以上解答实际上有个缺点，首先，其需要多次取值来构造判断的数组，其次，利用 `Counter` 也是对数组的一层遍历。\n",
    "\n",
    "这里可以修改一下思路，使用字典遍历所有的元素来辅助我们达到一样的效果。\n",
    "\n",
    "参考了一下时间耗时最短的写法，代码如下:"
   ]
  },
  {
   "cell_type": "code",
   "execution_count": 3,
   "metadata": {},
   "outputs": [],
   "source": [
    "class Solution:\n",
    "    def isValidSudoku(self, board):\n",
    "        \"\"\"\n",
    "        :type board: List[List[str]]\n",
    "        :rtype: bool\n",
    "        \"\"\"\n",
    "        rows = [''] * 9\n",
    "        cols = [''] * 9\n",
    "        grids = [''] * 9\n",
    "        for idx, row in enumerate(board):\n",
    "            for i, v in enumerate(row):\n",
    "                if v != \".\":\n",
    "                    grid_index =  idx // 3 * 3 + i // 3\n",
    "                    if v in rows[idx] or \\\n",
    "                        v in cols[i] or \\\n",
    "                        v in grids[grid_index]:\n",
    "                        return False\n",
    "                    rows[idx] += v\n",
    "                    cols[i] += v\n",
    "                    grids[grid_index] += v\n",
    "        return True"
   ]
  },
  {
   "cell_type": "markdown",
   "metadata": {},
   "source": [
    "## 一点备注\n",
    "\n",
    "在尝试第二种解法的时候，一开始我是想着通过数组来存放 `rows` 、`cols` 、`grids` 中的每一组元素，在初始化的时候用使用了 `[[]] * 9` 这样的方式来初始化空数组。\n",
    "\n",
    "但是在赋值的时候，发现造成了一个类似广播的效果。大概如下图。\n",
    "\n",
    "![错误的赋值]({filename}/images/LeetCode/valid-sudoku/error_assign.gif)\n",
    "\n",
    "一开始还没有想出来问题所在，后来想了想，发现是应该是在数组乘法操作的时候，实际上是将该数组的内存拷贝了若干次。\n",
    "\n",
    "此时原数组进行修改，自然会应用到所有的元素上去。\n",
    "\n",
    "通过打印元素的 `id` 也可以证明这一点。"
   ]
  }
 ],
 "metadata": {
  "kernelspec": {
   "display_name": "Python 3",
   "language": "python",
   "name": "python3"
  },
  "language_info": {
   "codemirror_mode": {
    "name": "ipython",
    "version": 3
   },
   "file_extension": ".py",
   "mimetype": "text/x-python",
   "name": "python",
   "nbconvert_exporter": "python",
   "pygments_lexer": "ipython3",
   "version": "3.6.2"
  },
  "toc": {
   "base_numbering": 1,
   "nav_menu": {},
   "number_sections": true,
   "sideBar": true,
   "skip_h1_title": false,
   "title_cell": "Table of Contents",
   "title_sidebar": "Contents",
   "toc_cell": false,
   "toc_position": {},
   "toc_section_display": true,
   "toc_window_display": false
  }
 },
 "nbformat": 4,
 "nbformat_minor": 2
}
