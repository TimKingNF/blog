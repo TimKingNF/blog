{
 "cells": [
  {
   "cell_type": "markdown",
   "metadata": {},
   "source": [
    "> [原文链接](https://leetcode-cn.com/problems/move-zeroes/description/)"
   ]
  },
  {
   "cell_type": "markdown",
   "metadata": {},
   "source": [
    "给定一个数组 nums，编写一个函数将所有 0 移动到数组的末尾，同时保持非零元素的相对顺序。\n",
    "\n",
    "**示例:**\n",
    "\n",
    "```\n",
    "输入: [0,1,0,3,12]\n",
    "输出: [1,3,12,0,0]\n",
    "```\n",
    "\n",
    "**说明:**\n",
    "\n",
    "* 必须在原数组上操作，不能拷贝额外的数组。\n",
    "\n",
    "\n",
    "* 尽量减少操作次数。"
   ]
  },
  {
   "cell_type": "markdown",
   "metadata": {},
   "source": [
    "## 初步解答\n",
    "\n",
    "一开始看到这个题目，首先想到的就是将 `非0元素` 与 `0` 交换, 将元素前移。\n",
    "\n",
    "代码如下:"
   ]
  },
  {
   "cell_type": "code",
   "execution_count": 1,
   "metadata": {},
   "outputs": [],
   "source": [
    "class Solution:\n",
    "    def moveZeroes(self, nums):\n",
    "        \"\"\"\n",
    "        :type nums: List[int]\n",
    "        :rtype: void Do not return anything, modify nums in-place instead.\n",
    "        \"\"\"\n",
    "        zero_id = -1\n",
    "        zero_repeated = 0\n",
    "        for i in range(0, len(nums)):\n",
    "            if zero_id >= 0:\n",
    "                if nums[i] != 0:\n",
    "                    nums[i], nums[zero_id] = nums[zero_id], nums[i]\n",
    "                    zero_id = i - zero_repeated\n",
    "                else:\n",
    "                    zero_repeated += 1\n",
    "            elif nums[i] == 0:\n",
    "                zero_id = i"
   ]
  },
  {
   "cell_type": "markdown",
   "metadata": {},
   "source": [
    "这里的思路是，记录了 `需要交换的0值` 下标，然后还记录了一个 `重复出现的0值` 次数，通过 `i值` 来确定下一个 `需要交换的0值` 下标。\n",
    "\n",
    "但是这样子还是太复杂了。。而且写代码时候因为思路不够清晰，出了很多问题。"
   ]
  },
  {
   "cell_type": "markdown",
   "metadata": {},
   "source": [
    "## 改正\n",
    "\n",
    "参考了一下其他的人代码，发现我一开始的思路是对的，但是在实际编码中还是想的太复杂了。\n",
    "\n",
    "题目本质是将 `非0元素` 提前，那么只要遇到 `非0元素` 就将其交换，然后交换下标前移一位。\n",
    "\n",
    "这样最终遍历完成，也就得出了正确结果。\n",
    "\n",
    "更正后的代码如下:"
   ]
  },
  {
   "cell_type": "code",
   "execution_count": 2,
   "metadata": {},
   "outputs": [],
   "source": [
    "class Solution:\n",
    "    def moveZeroes(self, nums):\n",
    "        \"\"\"\n",
    "        :type nums: List[int]\n",
    "        :rtype: void Do not return anything, modify nums in-place instead.\n",
    "        \"\"\"\n",
    "        point = 0\n",
    "        for i in range(len(nums)):\n",
    "            if nums[i]:   \n",
    "                nums[i], nums[point] = nums[point], nums[i]\n",
    "                point += 1"
   ]
  },
  {
   "cell_type": "markdown",
   "metadata": {},
   "source": [
    "这道题其实简单，但是我给钻入牛角尖了，实际上并没有那么复杂。。吸取教训。。"
   ]
  }
 ],
 "metadata": {
  "kernelspec": {
   "display_name": "Python 3",
   "language": "python",
   "name": "python3"
  },
  "language_info": {
   "codemirror_mode": {
    "name": "ipython",
    "version": 3
   },
   "file_extension": ".py",
   "mimetype": "text/x-python",
   "name": "python",
   "nbconvert_exporter": "python",
   "pygments_lexer": "ipython3",
   "version": "3.6.2"
  },
  "toc": {
   "base_numbering": 1,
   "nav_menu": {},
   "number_sections": true,
   "sideBar": true,
   "skip_h1_title": false,
   "title_cell": "Table of Contents",
   "title_sidebar": "Contents",
   "toc_cell": false,
   "toc_position": {},
   "toc_section_display": true,
   "toc_window_display": false
  }
 },
 "nbformat": 4,
 "nbformat_minor": 2
}
