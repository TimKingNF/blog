{
 "cells": [
  {
   "cell_type": "markdown",
   "metadata": {},
   "source": [
    "# 加一\n",
    "\n",
    "* Slug: plus-one\n",
    "\n",
    "* Date: 2018-06-28\n",
    "\n",
    "* Category: LeetCode\n",
    "\n",
    "* Tags: 数组, 算法\n",
    "\n",
    "* Author: timking\n",
    "\n",
    "* Summary: LeetCode - 探索 - 初级算法"
   ]
  },
  {
   "cell_type": "markdown",
   "metadata": {},
   "source": [
    "> [原文链接](https://leetcode-cn.com/problems/plus-one/description/)"
   ]
  },
  {
   "cell_type": "markdown",
   "metadata": {},
   "source": [
    "给定一个非负整数组成的非空数组，在该数的基础上加一，返回一个新的数组。\n",
    "\n",
    "最高位数字存放在数组的首位， 数组中每个元素只存储一个数字。\n",
    "\n",
    "你可以假设除了整数 0 之外，这个整数不会以零开头。\n",
    "\n",
    "**示例 1:**\n",
    "\n",
    "```\n",
    "输入: [1,2,3]\n",
    "输出: [1,2,4]\n",
    "解释: 输入数组表示数字 123。\n",
    "```\n",
    "\n",
    "**示例 2:**\n",
    "\n",
    "```\n",
    "输入: [4,3,2,1]\n",
    "输出: [4,3,2,2]\n",
    "解释: 输入数组表示数字 4321。\n",
    "```"
   ]
  },
  {
   "cell_type": "markdown",
   "metadata": {},
   "source": [
    "## 解答\n",
    "\n",
    "这道题目的需要注意的地方在于，数据中每个元素均不能大于9，当元素大于9之后就需要进位加1。\n",
    "\n",
    "代码如下："
   ]
  },
  {
   "cell_type": "code",
   "execution_count": 1,
   "metadata": {},
   "outputs": [],
   "source": [
    "class Solution:\n",
    "    def plusOne(self, digits):\n",
    "        \"\"\"\n",
    "        :type digits: List[int]\n",
    "        :rtype: List[int]\n",
    "        \"\"\"\n",
    "        digits_len = len(digits)\n",
    "        digits[digits_len-1] += 1\n",
    "        for i in range(digits_len-1, 0, -1):\n",
    "            if digits[i] > 9:\n",
    "                digits[i] = 0\n",
    "                digits[i-1] += 1\n",
    "        if digits[0] > 9:\n",
    "            digits[:] = [1, 0] + digits[1:]\n",
    "        return digits"
   ]
  },
  {
   "cell_type": "markdown",
   "metadata": {},
   "source": [
    "这里就是从 `长度n-1` 到 `1` 之间从后往前遍历，如果值大于10则进位加1。最后判断第一个元素是否需要进位加1。\n",
    "\n",
    "这里暂时没什么优化思路，就先到这里吧。 :)"
   ]
  }
 ],
 "metadata": {
  "kernelspec": {
   "display_name": "Python 3",
   "language": "python",
   "name": "python3"
  },
  "language_info": {
   "codemirror_mode": {
    "name": "ipython",
    "version": 3
   },
   "file_extension": ".py",
   "mimetype": "text/x-python",
   "name": "python",
   "nbconvert_exporter": "python",
   "pygments_lexer": "ipython3",
   "version": "3.6.2"
  },
  "toc": {
   "base_numbering": 1,
   "nav_menu": {},
   "number_sections": true,
   "sideBar": true,
   "skip_h1_title": false,
   "title_cell": "Table of Contents",
   "title_sidebar": "Contents",
   "toc_cell": false,
   "toc_position": {},
   "toc_section_display": true,
   "toc_window_display": false
  }
 },
 "nbformat": 4,
 "nbformat_minor": 2
}
