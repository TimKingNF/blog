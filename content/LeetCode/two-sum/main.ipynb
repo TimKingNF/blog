{
 "cells": [
  {
   "cell_type": "markdown",
   "metadata": {},
   "source": [
    "# 两数之和\n",
    "\n",
    "* Slug: two-sum\n",
    "\n",
    "* Date: 2018-06-30\n",
    "\n",
    "* Category: LeetCode\n",
    "\n",
    "* Tags: 数组, 算法\n",
    "\n",
    "* Author: timking\n",
    "\n",
    "* Summary: LeetCode - 探索 - 初级算法"
   ]
  },
  {
   "cell_type": "markdown",
   "metadata": {},
   "source": [
    "> [原文链接](https://leetcode-cn.com/problems/two-sum/description/)"
   ]
  },
  {
   "cell_type": "markdown",
   "metadata": {},
   "source": [
    "给定一个整数数组和一个目标值，找出数组中和为目标值的两个数。\n",
    "\n",
    "你可以假设每个输入只对应一种答案，且同样的元素不能被重复利用。\n",
    "\n",
    "**示例:**\n",
    "\n",
    "```\n",
    "给定 nums = [2, 7, 11, 15], target = 9\n",
    "\n",
    "因为 nums[0] + nums[1] = 2 + 7 = 9\n",
    "所以返回 [0, 1]\n",
    "```"
   ]
  },
  {
   "cell_type": "markdown",
   "metadata": {},
   "source": [
    "## 解答\n",
    "\n",
    "这边题目一开始的思路是，直接判断相差元素在后面的数组中是否存在，所以写出了如下代码:"
   ]
  },
  {
   "cell_type": "code",
   "execution_count": 1,
   "metadata": {},
   "outputs": [],
   "source": [
    "class Solution:\n",
    "    def twoSum(self, nums, target):\n",
    "        \"\"\"\n",
    "        :type nums: List[int]\n",
    "        :type target: int\n",
    "        :rtype: List[int]\n",
    "        \"\"\"\n",
    "        for i in range(len(nums)):\n",
    "            element = nums[i]\n",
    "            right = nums[i+1:]\n",
    "            if target-element in right: \n",
    "                index = nums[i+1:].index(target-element)\n",
    "                return [i, i+index+1]\n",
    "        return []"
   ]
  },
  {
   "cell_type": "markdown",
   "metadata": {},
   "source": [
    "但是实际上，这里有一个 `index` 操作是非常消耗性能的。\n",
    "\n",
    "后来想了想，发现可以换个思路，从左值数组中找，并且更换数据结构，使用字典存放下标来加快查找效率。\n",
    "\n",
    "于是写下新的代码:"
   ]
  },
  {
   "cell_type": "code",
   "execution_count": 2,
   "metadata": {},
   "outputs": [],
   "source": [
    "class Solution:\n",
    "    def twoSum(self, nums, target):\n",
    "        \"\"\"\n",
    "        :type nums: List[int]\n",
    "        :type target: int\n",
    "        :rtype: List[int]\n",
    "        \"\"\"\n",
    "        left = {}\n",
    "        for i in range(len(nums)):\n",
    "            element = nums[i]\n",
    "            if target - element in left:\n",
    "                return [left[target-element], i]\n",
    "            left[element] = i\n",
    "        return []"
   ]
  },
  {
   "cell_type": "markdown",
   "metadata": {},
   "source": [
    "解答完毕 :)"
   ]
  }
 ],
 "metadata": {
  "kernelspec": {
   "display_name": "Python 3",
   "language": "python",
   "name": "python3"
  },
  "language_info": {
   "codemirror_mode": {
    "name": "ipython",
    "version": 3
   },
   "file_extension": ".py",
   "mimetype": "text/x-python",
   "name": "python",
   "nbconvert_exporter": "python",
   "pygments_lexer": "ipython3",
   "version": "3.6.2"
  },
  "toc": {
   "base_numbering": 1,
   "nav_menu": {},
   "number_sections": true,
   "sideBar": true,
   "skip_h1_title": false,
   "title_cell": "Table of Contents",
   "title_sidebar": "Contents",
   "toc_cell": false,
   "toc_position": {},
   "toc_section_display": true,
   "toc_window_display": false
  }
 },
 "nbformat": 4,
 "nbformat_minor": 2
}
