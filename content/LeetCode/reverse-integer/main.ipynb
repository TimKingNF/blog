{
 "cells": [
  {
   "cell_type": "markdown",
   "metadata": {},
   "source": [
    "# 反转整数\n",
    "\n",
    "* Slug: reverse-integer\n",
    "\n",
    "* Date: 2018-07-08\n",
    "\n",
    "* Category: LeetCode\n",
    "\n",
    "* Tags: 字符串, 算法\n",
    "\n",
    "* Author: timking\n",
    "\n",
    "* Summary: LeetCode - 探索 - 初级算法"
   ]
  },
  {
   "cell_type": "markdown",
   "metadata": {},
   "source": [
    "> [原文链接](https://leetcode-cn.com/problems/reverse-integer/description/)"
   ]
  },
  {
   "cell_type": "markdown",
   "metadata": {},
   "source": [
    "给定一个 32 位有符号整数，将整数中的数字进行反转。\n",
    "\n",
    "**示例 1:**\n",
    "\n",
    "```\n",
    "输入: 123\n",
    "输出: 321\n",
    "```\n",
    "\n",
    "**示例 2:**\n",
    "\n",
    "```\n",
    "输入: -123\n",
    "输出: -321\n",
    "```\n",
    "\n",
    "**示例 3:**\n",
    "\n",
    "```\n",
    "输入: 120\n",
    "输出: 21\n",
    "```\n",
    "\n",
    "**注意:**\n",
    "\n",
    "假设我们的环境只能存储 32 位有符号整数，其数值范围是 [ $−2^{31}$, $2^{31}$ − 1 ]。根据这个假设，如果反转后的整数溢出，则返回 0。"
   ]
  },
  {
   "cell_type": "markdown",
   "metadata": {},
   "source": [
    "## 解答\n",
    "\n",
    "这边主要就是注意几个条件，当值为负数的情况下、当值越过最大值的时候。\n",
    "\n",
    "这边我一开始的代码是这个样子的。"
   ]
  },
  {
   "cell_type": "code",
   "execution_count": 1,
   "metadata": {},
   "outputs": [],
   "source": [
    "class Solution:\n",
    "    def reverse(self, x):\n",
    "        \"\"\"\n",
    "        :type x: int\n",
    "        :rtype: int\n",
    "        \"\"\"\n",
    "        flag = 1\n",
    "        if x < 0:\n",
    "            flag = -1\n",
    "        a = int(str(abs(x))[::-1]) * flag\n",
    "        if abs(a) >= 2**31:\n",
    "            return 0\n",
    "        return a"
   ]
  },
  {
   "cell_type": "markdown",
   "metadata": {},
   "source": [
    "## 优化\n",
    "\n",
    "当然这里存在几个问题，我直接是直接使用了字符串将其绝对值反转, 另外，在最大值上其实也有问题;\n",
    "\n",
    "假设代码运行只支持32位整形，那么实际上这段代码是不可执行的，因为在反转之后强转为 `int` 的时候就会溢出，这边实际上应该考虑这个情况。\n",
    "\n",
    "这里修改一下代码:"
   ]
  },
  {
   "cell_type": "code",
   "execution_count": 2,
   "metadata": {},
   "outputs": [],
   "source": [
    "class Solution:\n",
    "    def reverse(self, x):\n",
    "        \"\"\"\n",
    "        :type x: int\n",
    "        :rtype: int\n",
    "        \"\"\"\n",
    "        int_max = 2147483647 # 2**31 - 1\n",
    "        r = 0\n",
    "        flag = 1\n",
    "        if x < 0:\n",
    "            flag = -1\n",
    "            x = abs(x)\n",
    "        while x != 0:\n",
    "            pop = x % 10 # 倒序，取个位数上的值\n",
    "            x = x // 10 # 整除 10 \n",
    "            if r > int_max/10 or (r == int_max/10 and pop > 7):\n",
    "                return 0\n",
    "            r = r * 10 + pop\n",
    "        return r * flag"
   ]
  },
  {
   "cell_type": "markdown",
   "metadata": {},
   "source": [
    "这里需要在计算 `r = r * 10 + pop` 之前就判断，是否有溢出的可能, 满足以下任意条件就会溢出。\n",
    "\n",
    "* 当前 `r` 值大于 `int_max / 10` 那么最后一位不管是什么都溢出\n",
    "\n",
    "\n",
    "* 当前 `r` 值等于 `int_max / 10` 但最后一位是大于7，则超过最大数字溢出"
   ]
  }
 ],
 "metadata": {
  "kernelspec": {
   "display_name": "Python 3",
   "language": "python",
   "name": "python3"
  },
  "language_info": {
   "codemirror_mode": {
    "name": "ipython",
    "version": 3
   },
   "file_extension": ".py",
   "mimetype": "text/x-python",
   "name": "python",
   "nbconvert_exporter": "python",
   "pygments_lexer": "ipython3",
   "version": "3.6.2"
  },
  "toc": {
   "base_numbering": 1,
   "nav_menu": {},
   "number_sections": true,
   "sideBar": true,
   "skip_h1_title": false,
   "title_cell": "Table of Contents",
   "title_sidebar": "Contents",
   "toc_cell": false,
   "toc_position": {},
   "toc_section_display": true,
   "toc_window_display": false
  }
 },
 "nbformat": 4,
 "nbformat_minor": 2
}
