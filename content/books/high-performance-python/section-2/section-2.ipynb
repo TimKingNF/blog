{
 "cells": [
  {
   "cell_type": "markdown",
   "metadata": {},
   "source": [
    "这里是对 &laquo;Python高性能分析&raquo; 的文章解析。  \n",
    "将会引用来自书中的代码, 添加一些个人的理解备注, 作为学习笔记使用。\n",
    "> [引用代码](https://github.com/mynameisfiber/high_performance_python)"
   ]
  },
  {
   "cell_type": "markdown",
   "metadata": {},
   "source": [
    "## 计算Julia集合"
   ]
  },
  {
   "cell_type": "code",
   "execution_count": 2,
   "metadata": {},
   "outputs": [],
   "source": [
    "import time \n",
    "\n",
    "x1, x2, y1, y2 = -1.8, 1.8, -1.8, 1.8 \n",
    "c_real, c_imag = -0.62772, -.42193"
   ]
  },
  {
   "cell_type": "code",
   "execution_count": 3,
   "metadata": {},
   "outputs": [],
   "source": [
    "def calculate_z_serial_purepython(maxiter, zs, cs):\n",
    "    \"\"\"Calculate output list using Julia update rule\"\"\"\n",
    "    output = [0] * len(zs)\n",
    "    for i in range(len(zs)):\n",
    "        n = 0\n",
    "        z = zs[i]\n",
    "        c = cs[i]\n",
    "        while abs(z) < 2 and n < maxiter:\n",
    "            z = z * z + c\n",
    "            n += 1\n",
    "        output[i] = n\n",
    "    return output"
   ]
  },
  {
   "cell_type": "code",
   "execution_count": 24,
   "metadata": {},
   "outputs": [],
   "source": [
    "def calc_pure_python(desired_width, max_iterations):\n",
    "    ''' 获取两个常数数组， x从x1 到 x2 均匀递增， y从y2 到 y1 均匀递减'''\n",
    "    x_step = (float(x2 - x1) / float(desired_width))\n",
    "    y_step = (float(y1 - y2) / float(desired_width))\n",
    "    x = []\n",
    "    y = []\n",
    "    ycoord = y2\n",
    "    while ycoord > y1:\n",
    "        y.append(ycoord)\n",
    "        ycoord += y_step\n",
    "    xcoord = x1\n",
    "    while xcoord < x2:\n",
    "        x.append(xcoord)\n",
    "        xcoord += x_step\n",
    "    ''' 为图像中的每个格子构建一个复数值 '''\n",
    "    zs = []\n",
    "    cs = []\n",
    "    for ycoord in y:\n",
    "        for xcoord in x:\n",
    "            zs.append(complex(xcoord, ycoord))\n",
    "            cs.append(complex(c_real, c_imag))\n",
    "\n",
    "    print(\"Length of x:\", len(x))\n",
    "    print(\"Total elements:\", len(zs))\n",
    "    start_time = time.time()\n",
    "    output = calculate_z_serial_purepython(max_iterations, zs, cs)\n",
    "    end_time = time.time()\n",
    "    secs = end_time - start_time\n",
    "    print(calculate_z_serial_purepython.__name__ + \" took\", secs, \"seconds\")\n",
    "\n",
    "    # This sum is expected for a 1000^2 grid with 300 iterations.\n",
    "    # It catches minor errors we might introduce when we're\n",
    "    # working on a fixed set of inputs.\n",
    "    assert sum(output) == 33219980"
   ]
  },
  {
   "cell_type": "code",
   "execution_count": 25,
   "metadata": {},
   "outputs": [
    {
     "name": "stdout",
     "output_type": "stream",
     "text": [
      "Length of x: 1000\n",
      "Total elements: 1000000\n",
      "calculate_z_serial_purepython took 8.289915800094604 seconds\n"
     ]
    }
   ],
   "source": [
    "calc_pure_python(desired_width=1000, max_iterations=300)"
   ]
  },
  {
   "cell_type": "markdown",
   "metadata": {},
   "source": [
    "在以上这段代码中，可以看出函数的执行时间在 8s 左右。这里边有值得一提的是 我们可以通过装饰器构造一个方法来计算方法的执行时间。  \n",
    "就像下面这样。"
   ]
  },
  {
   "cell_type": "code",
   "execution_count": 26,
   "metadata": {},
   "outputs": [],
   "source": [
    "from functools import wraps\n",
    "\n",
    "def timefn(fn):\n",
    "    @wraps(fn)\n",
    "    def measure_time(*args, **kwargs):\n",
    "        t1 = time.time()\n",
    "        result = fn(*args, **kwargs)\n",
    "        t2 = time.time()\n",
    "        print (\"@timefn:\" + fn.func_name + \" took \" + str(t2 - t1) + \" seconds\")\n",
    "        return result\n",
    "    return measure_time"
   ]
  },
  {
   "cell_type": "markdown",
   "metadata": {},
   "source": [
    "但不可避免的是，这样的方法总是要在源代码上添加一些代码，我们可以通过以下方法来获取一个函数的执行时间。"
   ]
  },
  {
   "cell_type": "markdown",
   "metadata": {},
   "source": [
    "## 计算代码执行时长"
   ]
  },
  {
   "cell_type": "markdown",
   "metadata": {},
   "source": [
    "我们可以通过几种办法获取一个函数的具体执行时长。\n",
    "* python代码使用 timeit 模块\n",
    "```shell\n",
    "python -m timeit -n 5 -r 5 -s \"<some code>\"\n",
    "```\n",
    "这将会通过-n 执行循环次数, -r 指定重复次数，通过重复执行获取最好的结果"
   ]
  },
  {
   "cell_type": "markdown",
   "metadata": {},
   "source": [
    "* unix 下使用 time 命令\n",
    "```bash\n",
    "/usr/bin/time -p python \"<file>\"\n",
    "```\n",
    "这将会返回三个值， real 记录整体耗时， user 记录cpu在任务执行上消耗的时长， sys 记录cpu在调度过程内核函数消耗的时长\n",
    "\n",
    "> 这里可以通过添加参数 --verbose 获取更加详细的结果。  \n",
    "其中 `Major (requiring I/O) page faults` 指标表示 任务在磁盘IO上消耗的时长，这个值会造成 `user + sys = real` 的较大偏差"
   ]
  },
  {
   "cell_type": "markdown",
   "metadata": {},
   "source": [
    "* ipython 下使用 %timeit 魔法命令\n",
    "> 这个命令和 python 的 timeit 模块效果是一致的，区别是需要在 ipython 环境下执行"
   ]
  },
  {
   "cell_type": "markdown",
   "metadata": {},
   "source": [
    "## 使用cProfile模块"
   ]
  },
  {
   "cell_type": "markdown",
   "metadata": {},
   "source": [
    "我们可以通过以下命令来调用cProfile模块获得代码中的每个函数的调用统计。  \n",
    "这其中包括 Ncalls 调用次数， cumtime 函数耗时时长， tottime 函数内部没有调用函数的其他代码的耗时时长。\n",
    "```shell\n",
    "python -m cProfile -s cumulative -o profile.stats julia_nopil.py\n",
    "```\n",
    "> -s cumulative 对函数时间进行排序  \n",
    "-o 输出文件， 可以通过以下命令读取统计文件\n",
    "```python\n",
    "import pstats\n",
    "p = pstats.Stats(\"profile.stats\")\n",
    "p.sort_stats(\"cumulative\")\n",
    "p.print_stats()\n",
    "```"
   ]
  },
  {
   "cell_type": "markdown",
   "metadata": {},
   "source": [
    "## 使用可视化工具对cProfile的输出进行可视化\n",
    "有时候查看cProfile的文件还是太过麻烦，这时就可以通过相应的可视化工具进行输出，这样更加直观方便。"
   ]
  },
  {
   "cell_type": "code",
   "execution_count": 1,
   "metadata": {
    "scrolled": true
   },
   "outputs": [
    {
     "name": "stdout",
     "output_type": "stream",
     "text": [
      "Length of x: 1000\n",
      "Total elements: 1000000\n",
      "calculate_z_serial_purepython took 12.32185983657837 seconds\n"
     ]
    }
   ],
   "source": [
    "!python3 -m cProfile -s cumulative -o profile.stats julia_nopil.py"
   ]
  },
  {
   "cell_type": "markdown",
   "metadata": {},
   "source": [
    "### 使用gprof2dot对文件进行可视化分析\n",
    "使用前可以通过 `pip install gprof2dot` 来安装\n",
    "> [文档](https://github.com/jrfonseca/gprof2dot)\n",
    "\n",
    "gprof2dot可以将将多种Profiler的数据转成Graphviz可处理的图像表述。  \n",
    "配合dot命令，即可得到不同函数所消耗的时间分析图。"
   ]
  },
  {
   "cell_type": "code",
   "execution_count": 25,
   "metadata": {},
   "outputs": [],
   "source": [
    "!gprof2dot -f pstats profile.stats | dot -Tpng -o ../../../images/profile.png"
   ]
  },
  {
   "cell_type": "markdown",
   "metadata": {},
   "source": [
    "得到下图. 从图中可以看出各个函数往下执行的调用占比。\n",
    "![profile.png]({filename}/images/profile.png)"
   ]
  },
  {
   "cell_type": "markdown",
   "metadata": {},
   "source": [
    "### 使用 vprof 进行可视化分析\n",
    "通过`pip install vprof`安装\n",
    "> [文档](https://github.com/nvdv/vprof)"
   ]
  },
  {
   "cell_type": "code",
   "execution_count": 7,
   "metadata": {},
   "outputs": [
    {
     "name": "stdout",
     "output_type": "stream",
     "text": [
      "Running FlameGraphProfiler...\n",
      "Length of x: 1000\n",
      "Total elements: 1000000\n",
      "calculate_z_serial_purepython took 8.433602094650269 seconds\n",
      "Starting HTTP server...\n"
     ]
    }
   ],
   "source": [
    "!vprof -c c julia_nopil.py # 这里将会执行启动一个web server，在浏览器上展示分析的结果"
   ]
  },
  {
   "cell_type": "markdown",
   "metadata": {},
   "source": [
    "### RunSnakeRun\n",
    "```python\n",
    "# TODO(timking): 补充RunSnakeRun的分析方法\n",
    "```\n",
    "这里还有一种方法可以使用，书中原文可以使用的这一种。但我暂时没有找到方法，暂时搁置。"
   ]
  },
  {
   "cell_type": "markdown",
   "metadata": {},
   "source": [
    "## 使用LineProfiler进行逐行分析\n",
    "在上文我们找到耗时占比较大的函数之后。就可以通过 line_profile 来进行逐行分析。  \n",
    "使用 `pip install line_profiler`安装模块之后。  \n",
    "我们需要修改代码文件。在需要分析的函数处添加装饰器 `@profile`\n",
    "\n",
    "这里我们标记耗时较长的 calculate_z_serial_purepython 函数"
   ]
  },
  {
   "cell_type": "code",
   "execution_count": 10,
   "metadata": {},
   "outputs": [
    {
     "name": "stdout",
     "output_type": "stream",
     "text": [
      "Length of x: 1000\n",
      "Total elements: 1000000\n",
      "calculate_z_serial_purepython took 92.4572069644928 seconds\n",
      "Wrote profile results to julia_lineprofiler.py.lprof\n",
      "Timer unit: 1e-06 s\n",
      "\n",
      "Total time: 53.5594 s\n",
      "File: julia_lineprofiler.py\n",
      "Function: calculate_z_serial_purepython at line 7\n",
      "\n",
      "Line #      Hits         Time  Per Hit   % Time  Line Contents\n",
      "==============================================================\n",
      "     7                                           @profile\n",
      "     8                                           def calculate_z_serial_purepython(maxiter, zs, cs):\n",
      "     9                                               \"\"\"Calculate output list using Julia update rule\"\"\"\n",
      "    10         1       4121.0   4121.0      0.0      output = [0] * len(zs)\n",
      "    11   1000001     427083.0      0.4      0.8      for i in range(len(zs)):\n",
      "    12   1000000     403721.0      0.4      0.8          n = 0\n",
      "    13   1000000     479455.0      0.5      0.9          z = zs[i]\n",
      "    14   1000000     446756.0      0.4      0.8          c = cs[i]\n",
      "    15  34219980   20103258.0      0.6     37.5          while abs(z) < 2 and n < maxiter:\n",
      "    16  33219980   16408962.0      0.5     30.6              z = z * z + c\n",
      "    17  33219980   14826327.0      0.4     27.7              n += 1\n",
      "    18   1000000     459676.0      0.5      0.9          output[i] = n\n",
      "    19         1          0.0      0.0      0.0      return output\n",
      "\n"
     ]
    }
   ],
   "source": [
    "!kernprof -l -v julia_lineprofiler.py"
   ]
  },
  {
   "cell_type": "markdown",
   "metadata": {},
   "source": [
    "从上面的输出看出，主要消耗时间集中在 while 循环中。  \n",
    "while判断 甚至两行赋值语句，都因为循环了 34219980次 而导致占比时间均在 30%左右。\n",
    "> while 判断中是两个表达式，无从判断两个表达式何者占用的时间更慢  \n",
    "但是通过推导可知，函数会比单纯的逻辑表达式更慢。  \n",
    "在while表达式之后，我们可以通过调整 两个表达式的先后顺序，使得第一次判断的时间减少  \n",
    "理论上将优化一定的性能，而书中的结果也印证了这一点\n",
    "\n",
    "> 在对整体对函数`calc_pure_python`分析中，引用书上的结果，  \n",
    "`calculate_z_serial_purepython`占用了97%的时间，可见创建列表的耗时在此次无足轻重"
   ]
  },
  {
   "cell_type": "markdown",
   "metadata": {},
   "source": [
    "## 分析内存用量\n",
    "书上提到了使用memory_profiler 分析的方法，但是在实际生产环境中， memory_profiler会导致代码的执行效率急剧降低，这是不可忍受的。  \n",
    "好在我们可以通过Ipython的 `%memit` 来分析 某些语句的 RAM使用情况。  \n",
    "\n",
    "这些内容将会在后续章节中说明。"
   ]
  },
  {
   "cell_type": "markdown",
   "metadata": {},
   "source": [
    "## 分析堆上的对象使用内存\n",
    "依照书上提供的 `guppy` 库好像无法在python3环境下工作。  \n",
    "只能退而求次使用另一个分析内存的工具 `objgraph`\n",
    "> [文档](https://mg.pov.lt/objgraph/)"
   ]
  },
  {
   "cell_type": "markdown",
   "metadata": {},
   "source": [
    "## 单元测试"
   ]
  },
  {
   "cell_type": "code",
   "execution_count": 11,
   "metadata": {},
   "outputs": [
    {
     "name": "stdout",
     "output_type": "stream",
     "text": [
      "import unittest\r\n",
      "\r\n",
      "\r\n",
      "@profile\r\n",
      "def some_fn(nbr):\r\n",
      "    return nbr * 2\r\n",
      "\r\n",
      "\r\n",
      "class TestCase(unittest.TestCase):\r\n",
      "    def test(self):\r\n",
      "        result = some_fn(2)\r\n",
      "        self.assertEquals(result, 4)\r\n"
     ]
    }
   ],
   "source": [
    "!cat ex.py"
   ]
  },
  {
   "cell_type": "markdown",
   "metadata": {},
   "source": [
    "对上述代码进行单元测试"
   ]
  },
  {
   "cell_type": "code",
   "execution_count": 20,
   "metadata": {},
   "outputs": [
    {
     "name": "stdout",
     "output_type": "stream",
     "text": [
      ".\r\n",
      "----------------------------------------------------------------------\r\n",
      "Ran 1 test in 0.000s\r\n",
      "\r\n",
      "OK\r\n"
     ]
    }
   ],
   "source": [
    "!nosetests ex.py"
   ]
  }
 ],
 "metadata": {
  "kernelspec": {
   "display_name": "Python 3",
   "language": "python",
   "name": "python3"
  },
  "language_info": {
   "codemirror_mode": {
    "name": "ipython",
    "version": 3
   },
   "file_extension": ".py",
   "mimetype": "text/x-python",
   "name": "python",
   "nbconvert_exporter": "python",
   "pygments_lexer": "ipython3",
   "version": "3.6.2"
  },
  "toc": {
   "base_numbering": 1,
   "nav_menu": {},
   "number_sections": true,
   "sideBar": true,
   "skip_h1_title": false,
   "title_cell": "Table of Contents",
   "title_sidebar": "Contents",
   "toc_cell": false,
   "toc_position": {},
   "toc_section_display": true,
   "toc_window_display": true
  }
 },
 "nbformat": 4,
 "nbformat_minor": 2
}
